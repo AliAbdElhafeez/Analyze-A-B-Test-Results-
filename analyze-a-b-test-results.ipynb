{
 "cells": [
  {
   "cell_type": "markdown",
   "id": "70dff74c",
   "metadata": {
    "papermill": {
     "duration": 0.057038,
     "end_time": "2022-01-17T04:22:27.518366",
     "exception": false,
     "start_time": "2022-01-17T04:22:27.461328",
     "status": "completed"
    },
    "tags": []
   },
   "source": [
    "#### 12/01/2021\n",
    "\n",
    "We have organized the current notebook into the following sections: \n",
    "\n",
    "- [Introduction](#intro)\n",
    "- [Part I - Probability](#probability)\n",
    "- [Part II - A/B Test](#ab_test)\n",
    "- [Part III - Regression](#regression)\n",
    "- [Final Conclusion](#Final_Conclusion)\n",
    "\n",
    "\n",
    "<a id='intro'></a>\n",
    "## Introduction\n",
    "\n",
    "For this project, We will be working to understand the results of an A/B test run by an e-commerce website. Our goal is to work through this notebook to help the company understand if they should:\n",
    "- Implement the new webpage, \n",
    "- Keep the old webpage, or \n",
    "- Perhaps run the experiment longer to make their decision.\n",
    "\n",
    "\n"
   ]
  },
  {
   "cell_type": "markdown",
   "id": "5efb5afb",
   "metadata": {
    "papermill": {
     "duration": 0.055017,
     "end_time": "2022-01-17T04:22:27.632510",
     "exception": false,
     "start_time": "2022-01-17T04:22:27.577493",
     "status": "completed"
    },
    "tags": []
   },
   "source": [
    "## Data description"
   ]
  },
  {
   "attachments": {
    "d496bdcd-fc8e-4eca-bc35-fa97957dcefc.PNG": {
     "image/png": "[encoded data removed]"
    }
   },
   "cell_type": "markdown",
   "id": "adbdf09c",
   "metadata": {
    "papermill": {
     "duration": 0.053885,
     "end_time": "2022-01-17T04:22:27.741709",
     "exception": false,
     "start_time": "2022-01-17T04:22:27.687824",
     "status": "completed"
    },
    "tags": []
   },
   "source": [
    "This data is given by Udacity Advanced Data Analysis Nanodegree Program, It consists of two CSV files countries.csv and ab_data.csv.\n",
    "The two CSV files are [here](https://video.udacity-data.com/topher/2017/December/5a32c9a0_analyzeabtestresults-2/analyzeabtestresults-2.zip).\n",
    "\n",
    "Below is the description of ab_data.csv, there are a total of 5 columns:\n",
    "\n",
    "![Capture.PNG](attachment:d496bdcd-fc8e-4eca-bc35-fa97957dcefc.PNG) "
   ]
  },
  {
   "cell_type": "markdown",
   "id": "867fdfd2",
   "metadata": {
    "papermill": {
     "duration": 0.05416,
     "end_time": "2022-01-17T04:22:27.850371",
     "exception": false,
     "start_time": "2022-01-17T04:22:27.796211",
     "status": "completed"
    },
    "tags": []
   },
   "source": [
    "## Set up the environment"
   ]
  },
  {
   "cell_type": "code",
   "execution_count": 1,
   "id": "b240e1b5",
   "metadata": {
    "execution": {
     "iopub.execute_input": "2022-01-17T04:22:27.963921Z",
     "iopub.status.busy": "2022-01-17T04:22:27.962765Z",
     "iopub.status.idle": "2022-01-17T04:22:27.973973Z",
     "shell.execute_reply": "2022-01-17T04:22:27.974614Z",
     "shell.execute_reply.started": "2022-01-15T09:30:02.271859Z"
    },
    "papermill": {
     "duration": 0.070078,
     "end_time": "2022-01-17T04:22:27.974910",
     "exception": false,
     "start_time": "2022-01-17T04:22:27.904832",
     "status": "completed"
    },
    "tags": []
   },
   "outputs": [],
   "source": [
    "import pandas as pd\n",
    "import numpy as np\n",
    "import random\n",
    "import matplotlib.pyplot as plt\n",
    "%matplotlib inline\n",
    "random.seed(42)"
   ]
  },
  {
   "cell_type": "markdown",
   "id": "f3aa0d62",
   "metadata": {
    "execution": {
     "iopub.execute_input": "2022-01-15T10:34:45.74374Z",
     "iopub.status.busy": "2022-01-15T10:34:45.74264Z",
     "iopub.status.idle": "2022-01-15T10:34:45.758206Z",
     "shell.execute_reply": "2022-01-15T10:34:45.756623Z",
     "shell.execute_reply.started": "2022-01-15T10:34:45.743675Z"
    },
    "papermill": {
     "duration": 0.054291,
     "end_time": "2022-01-17T04:22:28.084820",
     "exception": false,
     "start_time": "2022-01-17T04:22:28.030529",
     "status": "completed"
    },
    "tags": []
   },
   "source": [
    "<a id='probability'></a>\n",
    "## Part I - Probability\n",
    "\n",
    "To get started, let's import our libraries."
   ]
  },
  {
   "cell_type": "markdown",
   "id": "b5d7ca6d",
   "metadata": {
    "execution": {
     "iopub.execute_input": "2022-01-15T10:34:58.415331Z",
     "iopub.status.busy": "2022-01-15T10:34:58.414534Z",
     "iopub.status.idle": "2022-01-15T10:34:58.423014Z",
     "shell.execute_reply": "2022-01-15T10:34:58.421378Z",
     "shell.execute_reply.started": "2022-01-15T10:34:58.415281Z"
    },
    "papermill": {
     "duration": 0.053961,
     "end_time": "2022-01-17T04:22:28.194325",
     "exception": false,
     "start_time": "2022-01-17T04:22:28.140364",
     "status": "completed"
    },
    "tags": []
   },
   "source": [
    "### ToDo 1.1\n",
    "\n",
    "**a.** Read in the dataset from the `ab_data.csv` file and take a look at the top few rows here:\n"
   ]
  },
  {
   "cell_type": "code",
   "execution_count": 2,
   "id": "b6a52aab",
   "metadata": {
    "execution": {
     "iopub.execute_input": "2022-01-17T04:22:28.307208Z",
     "iopub.status.busy": "2022-01-17T04:22:28.306581Z",
     "iopub.status.idle": "2022-01-17T04:22:28.900688Z",
     "shell.execute_reply": "2022-01-17T04:22:28.899606Z",
     "shell.execute_reply.started": "2022-01-15T09:30:02.292411Z"
    },
    "papermill": {
     "duration": 0.651611,
     "end_time": "2022-01-17T04:22:28.900863",
     "exception": false,
     "start_time": "2022-01-17T04:22:28.249252",
     "status": "completed"
    },
    "tags": []
   },
   "outputs": [
    {
     "data": {
      "text/html": [
       "<div>\n",
       "<style scoped>\n",
       "    .dataframe tbody tr th:only-of-type {\n",
       "        vertical-align: middle;\n",
       "    }\n",
       "\n",
       "    .dataframe tbody tr th {\n",
       "        vertical-align: top;\n",
       "    }\n",
       "\n",
       "    .dataframe thead th {\n",
       "        text-align: right;\n",
       "    }\n",
       "</style>\n",
       "<table border=\"1\" class=\"dataframe\">\n",
       "  <thead>\n",
       "    <tr style=\"text-align: right;\">\n",
       "      <th></th>\n",
       "      <th>user_id</th>\n",
       "      <th>timestamp</th>\n",
       "      <th>group</th>\n",
       "      <th>landing_page</th>\n",
       "      <th>converted</th>\n",
       "    </tr>\n",
       "  </thead>\n",
       "  <tbody>\n",
       "    <tr>\n",
       "      <th>0</th>\n",
       "      <td>851104</td>\n",
       "      <td>2017-01-21 22:11:48.556739</td>\n",
       "      <td>control</td>\n",
       "      <td>old_page</td>\n",
       "      <td>0</td>\n",
       "    </tr>\n",
       "    <tr>\n",
       "      <th>1</th>\n",
       "      <td>804228</td>\n",
       "      <td>2017-01-12 08:01:45.159739</td>\n",
       "      <td>control</td>\n",
       "      <td>old_page</td>\n",
       "      <td>0</td>\n",
       "    </tr>\n",
       "    <tr>\n",
       "      <th>2</th>\n",
       "      <td>661590</td>\n",
       "      <td>2017-01-11 16:55:06.154213</td>\n",
       "      <td>treatment</td>\n",
       "      <td>new_page</td>\n",
       "      <td>0</td>\n",
       "    </tr>\n",
       "    <tr>\n",
       "      <th>3</th>\n",
       "      <td>853541</td>\n",
       "      <td>2017-01-08 18:28:03.143765</td>\n",
       "      <td>treatment</td>\n",
       "      <td>new_page</td>\n",
       "      <td>0</td>\n",
       "    </tr>\n",
       "    <tr>\n",
       "      <th>4</th>\n",
       "      <td>864975</td>\n",
       "      <td>2017-01-21 01:52:26.210827</td>\n",
       "      <td>control</td>\n",
       "      <td>old_page</td>\n",
       "      <td>1</td>\n",
       "    </tr>\n",
       "  </tbody>\n",
       "</table>\n",
       "</div>"
      ],
      "text/plain": [
       "   user_id                   timestamp      group landing_page  converted\n",
       "0   851104  2017-01-21 22:11:48.556739    control     old_page          0\n",
       "1   804228  2017-01-12 08:01:45.159739    control     old_page          0\n",
       "2   661590  2017-01-11 16:55:06.154213  treatment     new_page          0\n",
       "3   853541  2017-01-08 18:28:03.143765  treatment     new_page          0\n",
       "4   864975  2017-01-21 01:52:26.210827    control     old_page          1"
      ]
     },
     "execution_count": 2,
     "metadata": {},
     "output_type": "execute_result"
    }
   ],
   "source": [
    "df = pd.read_csv('/kaggle/input/analyze-ab-test-results-notebook/ab_data.csv')\n",
    "df.head()"
   ]
  },
  {
   "cell_type": "markdown",
   "id": "c3adc5a5",
   "metadata": {
    "papermill": {
     "duration": 0.054837,
     "end_time": "2022-01-17T04:22:29.013392",
     "exception": false,
     "start_time": "2022-01-17T04:22:28.958555",
     "status": "completed"
    },
    "tags": []
   },
   "source": [
    "**b.** Use the cell below to find the number of rows in the dataset."
   ]
  },
  {
   "cell_type": "code",
   "execution_count": 3,
   "id": "69665b1a",
   "metadata": {
    "execution": {
     "iopub.execute_input": "2022-01-17T04:22:29.129382Z",
     "iopub.status.busy": "2022-01-17T04:22:29.128743Z",
     "iopub.status.idle": "2022-01-17T04:22:29.131230Z",
     "shell.execute_reply": "2022-01-17T04:22:29.131754Z",
     "shell.execute_reply.started": "2022-01-15T09:30:02.771489Z"
    },
    "papermill": {
     "duration": 0.063584,
     "end_time": "2022-01-17T04:22:29.131922",
     "exception": false,
     "start_time": "2022-01-17T04:22:29.068338",
     "status": "completed"
    },
    "tags": []
   },
   "outputs": [
    {
     "data": {
      "text/plain": [
       "294478"
      ]
     },
     "execution_count": 3,
     "metadata": {},
     "output_type": "execute_result"
    }
   ],
   "source": [
    "df.shape[0]"
   ]
  },
  {
   "cell_type": "markdown",
   "id": "87bc4ccc",
   "metadata": {
    "papermill": {
     "duration": 0.055129,
     "end_time": "2022-01-17T04:22:29.242430",
     "exception": false,
     "start_time": "2022-01-17T04:22:29.187301",
     "status": "completed"
    },
    "tags": []
   },
   "source": [
    "**c.** The number of unique users in the dataset."
   ]
  },
  {
   "cell_type": "code",
   "execution_count": 4,
   "id": "89fbd9fe",
   "metadata": {
    "execution": {
     "iopub.execute_input": "2022-01-17T04:22:29.359288Z",
     "iopub.status.busy": "2022-01-17T04:22:29.358602Z",
     "iopub.status.idle": "2022-01-17T04:22:29.386690Z",
     "shell.execute_reply": "2022-01-17T04:22:29.386004Z",
     "shell.execute_reply.started": "2022-01-15T09:30:02.781045Z"
    },
    "papermill": {
     "duration": 0.088841,
     "end_time": "2022-01-17T04:22:29.386832",
     "exception": false,
     "start_time": "2022-01-17T04:22:29.297991",
     "status": "completed"
    },
    "tags": []
   },
   "outputs": [
    {
     "data": {
      "text/plain": [
       "290584"
      ]
     },
     "execution_count": 4,
     "metadata": {},
     "output_type": "execute_result"
    }
   ],
   "source": [
    "df['user_id'].nunique()"
   ]
  },
  {
   "cell_type": "markdown",
   "id": "9a28f9ac",
   "metadata": {
    "papermill": {
     "duration": 0.05589,
     "end_time": "2022-01-17T04:22:29.499395",
     "exception": false,
     "start_time": "2022-01-17T04:22:29.443505",
     "status": "completed"
    },
    "tags": []
   },
   "source": [
    "**d.** The proportion of users converted."
   ]
  },
  {
   "cell_type": "code",
   "execution_count": 5,
   "id": "0b45660a",
   "metadata": {
    "execution": {
     "iopub.execute_input": "2022-01-17T04:22:29.654961Z",
     "iopub.status.busy": "2022-01-17T04:22:29.654258Z",
     "iopub.status.idle": "2022-01-17T04:22:29.658302Z",
     "shell.execute_reply": "2022-01-17T04:22:29.657703Z",
     "shell.execute_reply.started": "2022-01-15T09:30:02.816082Z"
    },
    "papermill": {
     "duration": 0.103017,
     "end_time": "2022-01-17T04:22:29.658448",
     "exception": false,
     "start_time": "2022-01-17T04:22:29.555431",
     "status": "completed"
    },
    "tags": []
   },
   "outputs": [
    {
     "data": {
      "text/plain": [
       "0.11965919355605512"
      ]
     },
     "execution_count": 5,
     "metadata": {},
     "output_type": "execute_result"
    }
   ],
   "source": [
    "sum(df['converted'])/df.shape[0]"
   ]
  },
  {
   "cell_type": "markdown",
   "id": "4731dd2a",
   "metadata": {
    "papermill": {
     "duration": 0.056709,
     "end_time": "2022-01-17T04:22:29.771610",
     "exception": false,
     "start_time": "2022-01-17T04:22:29.714901",
     "status": "completed"
    },
    "tags": []
   },
   "source": [
    "**e.** The number of times when the \"group\" is `treatment` but \"landing_page\" is not a `new_page`."
   ]
  },
  {
   "cell_type": "code",
   "execution_count": 6,
   "id": "e5667bbd",
   "metadata": {
    "execution": {
     "iopub.execute_input": "2022-01-17T04:22:29.890537Z",
     "iopub.status.busy": "2022-01-17T04:22:29.889746Z",
     "iopub.status.idle": "2022-01-17T04:22:29.943746Z",
     "shell.execute_reply": "2022-01-17T04:22:29.943152Z",
     "shell.execute_reply.started": "2022-01-15T09:30:02.864116Z"
    },
    "papermill": {
     "duration": 0.115634,
     "end_time": "2022-01-17T04:22:29.943895",
     "exception": false,
     "start_time": "2022-01-17T04:22:29.828261",
     "status": "completed"
    },
    "tags": []
   },
   "outputs": [
    {
     "data": {
      "text/plain": [
       "1965"
      ]
     },
     "execution_count": 6,
     "metadata": {},
     "output_type": "execute_result"
    }
   ],
   "source": [
    "df.query('group == \"treatment\" & landing_page != \"new_page\"').shape[0]"
   ]
  },
  {
   "cell_type": "markdown",
   "id": "3000987f",
   "metadata": {
    "papermill": {
     "duration": 0.057644,
     "end_time": "2022-01-17T04:22:30.060334",
     "exception": false,
     "start_time": "2022-01-17T04:22:30.002690",
     "status": "completed"
    },
    "tags": []
   },
   "source": [
    "**f.** Do any of the rows have missing values?"
   ]
  },
  {
   "cell_type": "code",
   "execution_count": 7,
   "id": "0d01e063",
   "metadata": {
    "execution": {
     "iopub.execute_input": "2022-01-17T04:22:30.275881Z",
     "iopub.status.busy": "2022-01-17T04:22:30.274874Z",
     "iopub.status.idle": "2022-01-17T04:22:30.289856Z",
     "shell.execute_reply": "2022-01-17T04:22:30.289168Z",
     "shell.execute_reply.started": "2022-01-15T09:30:02.932882Z"
    },
    "papermill": {
     "duration": 0.172288,
     "end_time": "2022-01-17T04:22:30.289999",
     "exception": false,
     "start_time": "2022-01-17T04:22:30.117711",
     "status": "completed"
    },
    "tags": []
   },
   "outputs": [
    {
     "name": "stdout",
     "output_type": "stream",
     "text": [
      "<class 'pandas.core.frame.DataFrame'>\n",
      "RangeIndex: 294478 entries, 0 to 294477\n",
      "Data columns (total 5 columns):\n",
      " #   Column        Non-Null Count   Dtype \n",
      "---  ------        --------------   ----- \n",
      " 0   user_id       294478 non-null  int64 \n",
      " 1   timestamp     294478 non-null  object\n",
      " 2   group         294478 non-null  object\n",
      " 3   landing_page  294478 non-null  object\n",
      " 4   converted     294478 non-null  int64 \n",
      "dtypes: int64(2), object(3)\n",
      "memory usage: 11.2+ MB\n"
     ]
    }
   ],
   "source": [
    "df.info()"
   ]
  },
  {
   "cell_type": "markdown",
   "id": "1d4ab26d",
   "metadata": {
    "papermill": {
     "duration": 0.056801,
     "end_time": "2022-01-17T04:22:30.404602",
     "exception": false,
     "start_time": "2022-01-17T04:22:30.347801",
     "status": "completed"
    },
    "tags": []
   },
   "source": [
    "There is no missing values."
   ]
  },
  {
   "cell_type": "markdown",
   "id": "b13d8a70",
   "metadata": {
    "papermill": {
     "duration": 0.056938,
     "end_time": "2022-01-17T04:22:30.518591",
     "exception": false,
     "start_time": "2022-01-17T04:22:30.461653",
     "status": "completed"
    },
    "tags": []
   },
   "source": [
    "In a particular row, the **group** and **landing_page** columns should have either of the following acceptable values:\n",
    "\n",
    "|user_id| timestamp|group|landing_page|converted|\n",
    "|---|---|---|---|---|\n",
    "|XXXX|XXXX|`control`| `old_page`|X |\n",
    "|XXXX|XXXX|`treatment`|`new_page`|X |\n",
    "\n",
    "\n",
    "It means, the `control` group users should match with `old_page`; and `treatment` group users should matched with the `new_page`. \n",
    "\n",
    "However, for the rows where `treatment` does not match with `new_page` or `control` does not match with `old_page`, we cannot be sure if such rows truly received the new or old wepage.  \n",
    "\n",
    "Store new dataframe in **df2**."
   ]
  },
  {
   "cell_type": "code",
   "execution_count": 8,
   "id": "9374ba48",
   "metadata": {
    "execution": {
     "iopub.execute_input": "2022-01-17T04:22:30.637839Z",
     "iopub.status.busy": "2022-01-17T04:22:30.637152Z",
     "iopub.status.idle": "2022-01-17T04:22:30.734880Z",
     "shell.execute_reply": "2022-01-17T04:22:30.734346Z",
     "shell.execute_reply.started": "2022-01-15T09:30:03.048946Z"
    },
    "papermill": {
     "duration": 0.158995,
     "end_time": "2022-01-17T04:22:30.735018",
     "exception": false,
     "start_time": "2022-01-17T04:22:30.576023",
     "status": "completed"
    },
    "tags": []
   },
   "outputs": [
    {
     "data": {
      "text/plain": [
       "290585"
      ]
     },
     "execution_count": 8,
     "metadata": {},
     "output_type": "execute_result"
    }
   ],
   "source": [
    "# Remove the inaccurate rows, and store the result in a new dataframe df2\n",
    "\n",
    "df2 = df.query('(group == \"treatment\" & landing_page == \"new_page\")|(group == \"control\" & landing_page == \"old_page\")')\n",
    "df2.shape[0]"
   ]
  },
  {
   "cell_type": "code",
   "execution_count": 9,
   "id": "9b4c2dc6",
   "metadata": {
    "execution": {
     "iopub.execute_input": "2022-01-17T04:22:30.948654Z",
     "iopub.status.busy": "2022-01-17T04:22:30.899390Z",
     "iopub.status.idle": "2022-01-17T04:22:30.954370Z",
     "shell.execute_reply": "2022-01-17T04:22:30.954858Z",
     "shell.execute_reply.started": "2022-01-15T09:30:03.169256Z"
    },
    "papermill": {
     "duration": 0.162433,
     "end_time": "2022-01-17T04:22:30.955043",
     "exception": false,
     "start_time": "2022-01-17T04:22:30.792610",
     "status": "completed"
    },
    "tags": []
   },
   "outputs": [
    {
     "data": {
      "text/plain": [
       "0"
      ]
     },
     "execution_count": 9,
     "metadata": {},
     "output_type": "execute_result"
    }
   ],
   "source": [
    "# Double Check all of the incorrect rows were removed from df2 - \n",
    "# Output of the statement below should be 0\n",
    "df2[((df2['group'] == 'treatment') == (df2['landing_page'] == 'new_page')) == False].shape[0]"
   ]
  },
  {
   "cell_type": "markdown",
   "id": "f3deeb27",
   "metadata": {
    "papermill": {
     "duration": 0.058156,
     "end_time": "2022-01-17T04:22:31.071247",
     "exception": false,
     "start_time": "2022-01-17T04:22:31.013091",
     "status": "completed"
    },
    "tags": []
   },
   "source": [
    "### ToDo 1.2\n",
    "\n",
    "**a.** How many unique **user_id**s are in **df2**?"
   ]
  },
  {
   "cell_type": "code",
   "execution_count": 10,
   "id": "3860fe65",
   "metadata": {
    "execution": {
     "iopub.execute_input": "2022-01-17T04:22:31.191696Z",
     "iopub.status.busy": "2022-01-17T04:22:31.191074Z",
     "iopub.status.idle": "2022-01-17T04:22:31.207908Z",
     "shell.execute_reply": "2022-01-17T04:22:31.207312Z",
     "shell.execute_reply.started": "2022-01-15T09:30:03.278763Z"
    },
    "papermill": {
     "duration": 0.078699,
     "end_time": "2022-01-17T04:22:31.208048",
     "exception": false,
     "start_time": "2022-01-17T04:22:31.129349",
     "status": "completed"
    },
    "tags": []
   },
   "outputs": [
    {
     "data": {
      "text/plain": [
       "290584"
      ]
     },
     "execution_count": 10,
     "metadata": {},
     "output_type": "execute_result"
    }
   ],
   "source": [
    "df2['user_id'].nunique()"
   ]
  },
  {
   "cell_type": "markdown",
   "id": "1917d3b3",
   "metadata": {
    "papermill": {
     "duration": 0.057806,
     "end_time": "2022-01-17T04:22:31.324151",
     "exception": false,
     "start_time": "2022-01-17T04:22:31.266345",
     "status": "completed"
    },
    "tags": []
   },
   "source": [
    "**b.** There is one **user_id** repeated in **df2**.  What is it?"
   ]
  },
  {
   "cell_type": "code",
   "execution_count": 11,
   "id": "f1c7853b",
   "metadata": {
    "execution": {
     "iopub.execute_input": "2022-01-17T04:22:31.447643Z",
     "iopub.status.busy": "2022-01-17T04:22:31.446556Z",
     "iopub.status.idle": "2022-01-17T04:22:31.462548Z",
     "shell.execute_reply": "2022-01-17T04:22:31.461985Z",
     "shell.execute_reply.started": "2022-01-15T09:30:03.308898Z"
    },
    "papermill": {
     "duration": 0.079492,
     "end_time": "2022-01-17T04:22:31.462705",
     "exception": false,
     "start_time": "2022-01-17T04:22:31.383213",
     "status": "completed"
    },
    "tags": []
   },
   "outputs": [
    {
     "data": {
      "text/html": [
       "<div>\n",
       "<style scoped>\n",
       "    .dataframe tbody tr th:only-of-type {\n",
       "        vertical-align: middle;\n",
       "    }\n",
       "\n",
       "    .dataframe tbody tr th {\n",
       "        vertical-align: top;\n",
       "    }\n",
       "\n",
       "    .dataframe thead th {\n",
       "        text-align: right;\n",
       "    }\n",
       "</style>\n",
       "<table border=\"1\" class=\"dataframe\">\n",
       "  <thead>\n",
       "    <tr style=\"text-align: right;\">\n",
       "      <th></th>\n",
       "      <th>user_id</th>\n",
       "      <th>timestamp</th>\n",
       "      <th>group</th>\n",
       "      <th>landing_page</th>\n",
       "      <th>converted</th>\n",
       "    </tr>\n",
       "  </thead>\n",
       "  <tbody>\n",
       "    <tr>\n",
       "      <th>2893</th>\n",
       "      <td>773192</td>\n",
       "      <td>2017-01-14 02:55:59.590927</td>\n",
       "      <td>treatment</td>\n",
       "      <td>new_page</td>\n",
       "      <td>0</td>\n",
       "    </tr>\n",
       "  </tbody>\n",
       "</table>\n",
       "</div>"
      ],
      "text/plain": [
       "      user_id                   timestamp      group landing_page  converted\n",
       "2893   773192  2017-01-14 02:55:59.590927  treatment     new_page          0"
      ]
     },
     "execution_count": 11,
     "metadata": {},
     "output_type": "execute_result"
    }
   ],
   "source": [
    "df2[df2['user_id'].duplicated()]"
   ]
  },
  {
   "cell_type": "markdown",
   "id": "ee6f728b",
   "metadata": {
    "papermill": {
     "duration": 0.058231,
     "end_time": "2022-01-17T04:22:31.579772",
     "exception": false,
     "start_time": "2022-01-17T04:22:31.521541",
     "status": "completed"
    },
    "tags": []
   },
   "source": [
    "**c.** Display the rows for the duplicate **user_id**? "
   ]
  },
  {
   "cell_type": "code",
   "execution_count": 12,
   "id": "8be1dc25",
   "metadata": {
    "execution": {
     "iopub.execute_input": "2022-01-17T04:22:31.703179Z",
     "iopub.status.busy": "2022-01-17T04:22:31.702530Z",
     "iopub.status.idle": "2022-01-17T04:22:31.723018Z",
     "shell.execute_reply": "2022-01-17T04:22:31.722349Z",
     "shell.execute_reply.started": "2022-01-15T09:30:03.333941Z"
    },
    "papermill": {
     "duration": 0.08485,
     "end_time": "2022-01-17T04:22:31.723153",
     "exception": false,
     "start_time": "2022-01-17T04:22:31.638303",
     "status": "completed"
    },
    "tags": []
   },
   "outputs": [
    {
     "data": {
      "text/html": [
       "<div>\n",
       "<style scoped>\n",
       "    .dataframe tbody tr th:only-of-type {\n",
       "        vertical-align: middle;\n",
       "    }\n",
       "\n",
       "    .dataframe tbody tr th {\n",
       "        vertical-align: top;\n",
       "    }\n",
       "\n",
       "    .dataframe thead th {\n",
       "        text-align: right;\n",
       "    }\n",
       "</style>\n",
       "<table border=\"1\" class=\"dataframe\">\n",
       "  <thead>\n",
       "    <tr style=\"text-align: right;\">\n",
       "      <th></th>\n",
       "      <th>user_id</th>\n",
       "      <th>timestamp</th>\n",
       "      <th>group</th>\n",
       "      <th>landing_page</th>\n",
       "      <th>converted</th>\n",
       "    </tr>\n",
       "  </thead>\n",
       "  <tbody>\n",
       "    <tr>\n",
       "      <th>1899</th>\n",
       "      <td>773192</td>\n",
       "      <td>2017-01-09 05:37:58.781806</td>\n",
       "      <td>treatment</td>\n",
       "      <td>new_page</td>\n",
       "      <td>0</td>\n",
       "    </tr>\n",
       "    <tr>\n",
       "      <th>2893</th>\n",
       "      <td>773192</td>\n",
       "      <td>2017-01-14 02:55:59.590927</td>\n",
       "      <td>treatment</td>\n",
       "      <td>new_page</td>\n",
       "      <td>0</td>\n",
       "    </tr>\n",
       "  </tbody>\n",
       "</table>\n",
       "</div>"
      ],
      "text/plain": [
       "      user_id                   timestamp      group landing_page  converted\n",
       "1899   773192  2017-01-09 05:37:58.781806  treatment     new_page          0\n",
       "2893   773192  2017-01-14 02:55:59.590927  treatment     new_page          0"
      ]
     },
     "execution_count": 12,
     "metadata": {},
     "output_type": "execute_result"
    }
   ],
   "source": [
    "df2[df2['user_id'].duplicated(keep=False)]"
   ]
  },
  {
   "cell_type": "markdown",
   "id": "ddb8f39d",
   "metadata": {
    "papermill": {
     "duration": 0.059106,
     "end_time": "2022-01-17T04:22:31.841748",
     "exception": false,
     "start_time": "2022-01-17T04:22:31.782642",
     "status": "completed"
    },
    "tags": []
   },
   "source": [
    "**d.** Remove **one** of the rows with a duplicate **user_id**, from the **df2** dataframe."
   ]
  },
  {
   "cell_type": "code",
   "execution_count": 13,
   "id": "2bc872e6",
   "metadata": {
    "execution": {
     "iopub.execute_input": "2022-01-17T04:22:31.963361Z",
     "iopub.status.busy": "2022-01-17T04:22:31.962708Z",
     "iopub.status.idle": "2022-01-17T04:22:32.013600Z",
     "shell.execute_reply": "2022-01-17T04:22:32.012976Z",
     "shell.execute_reply.started": "2022-01-15T09:30:03.36577Z"
    },
    "papermill": {
     "duration": 0.113707,
     "end_time": "2022-01-17T04:22:32.013746",
     "exception": false,
     "start_time": "2022-01-17T04:22:31.900039",
     "status": "completed"
    },
    "tags": []
   },
   "outputs": [
    {
     "data": {
      "text/html": [
       "<div>\n",
       "<style scoped>\n",
       "    .dataframe tbody tr th:only-of-type {\n",
       "        vertical-align: middle;\n",
       "    }\n",
       "\n",
       "    .dataframe tbody tr th {\n",
       "        vertical-align: top;\n",
       "    }\n",
       "\n",
       "    .dataframe thead th {\n",
       "        text-align: right;\n",
       "    }\n",
       "</style>\n",
       "<table border=\"1\" class=\"dataframe\">\n",
       "  <thead>\n",
       "    <tr style=\"text-align: right;\">\n",
       "      <th></th>\n",
       "      <th>user_id</th>\n",
       "      <th>timestamp</th>\n",
       "      <th>group</th>\n",
       "      <th>landing_page</th>\n",
       "      <th>converted</th>\n",
       "    </tr>\n",
       "  </thead>\n",
       "  <tbody>\n",
       "  </tbody>\n",
       "</table>\n",
       "</div>"
      ],
      "text/plain": [
       "Empty DataFrame\n",
       "Columns: [user_id, timestamp, group, landing_page, converted]\n",
       "Index: []"
      ]
     },
     "execution_count": 13,
     "metadata": {},
     "output_type": "execute_result"
    }
   ],
   "source": [
    "# Remove one of the rows with a duplicate user_id..\n",
    "# Hint: The dataframe.drop_duplicates() may not work in this case because the rows with duplicate user_id are not entirely identical. \n",
    "df2 = df2.drop([2893])\n",
    "# Check again if the row with a duplicate user_id is deleted or not\n",
    "df2[df2['user_id'].duplicated()]\n"
   ]
  },
  {
   "cell_type": "markdown",
   "id": "2dd6dd32",
   "metadata": {
    "papermill": {
     "duration": 0.059854,
     "end_time": "2022-01-17T04:22:32.134122",
     "exception": false,
     "start_time": "2022-01-17T04:22:32.074268",
     "status": "completed"
    },
    "tags": []
   },
   "source": [
    "### ToDo 1.3\n",
    "\n",
    "**a.** What is the probability of an individual converting regardless of the page they receive?<br><br>"
   ]
  },
  {
   "cell_type": "code",
   "execution_count": 14,
   "id": "5de84169",
   "metadata": {
    "execution": {
     "iopub.execute_input": "2022-01-17T04:22:32.257192Z",
     "iopub.status.busy": "2022-01-17T04:22:32.256612Z",
     "iopub.status.idle": "2022-01-17T04:22:32.271135Z",
     "shell.execute_reply": "2022-01-17T04:22:32.271766Z",
     "shell.execute_reply.started": "2022-01-15T09:30:03.435405Z"
    },
    "papermill": {
     "duration": 0.077754,
     "end_time": "2022-01-17T04:22:32.271937",
     "exception": false,
     "start_time": "2022-01-17T04:22:32.194183",
     "status": "completed"
    },
    "tags": []
   },
   "outputs": [
    {
     "data": {
      "text/plain": [
       "0.11959708724499628"
      ]
     },
     "execution_count": 14,
     "metadata": {},
     "output_type": "execute_result"
    }
   ],
   "source": [
    "#df.reset_index()\n",
    "\n",
    "p_population = df2.query('converted == 1').shape[0]/df2.shape[0]\n",
    "p_population"
   ]
  },
  {
   "cell_type": "markdown",
   "id": "652b3998",
   "metadata": {
    "papermill": {
     "duration": 0.060915,
     "end_time": "2022-01-17T04:22:32.392846",
     "exception": false,
     "start_time": "2022-01-17T04:22:32.331931",
     "status": "completed"
    },
    "tags": []
   },
   "source": [
    "**b.** Given that an individual was in the `control` group, what is the probability they converted?"
   ]
  },
  {
   "cell_type": "code",
   "execution_count": 15,
   "id": "8c47b065",
   "metadata": {
    "execution": {
     "iopub.execute_input": "2022-01-17T04:22:32.517724Z",
     "iopub.status.busy": "2022-01-17T04:22:32.516774Z",
     "iopub.status.idle": "2022-01-17T04:22:32.571188Z",
     "shell.execute_reply": "2022-01-17T04:22:32.570694Z",
     "shell.execute_reply.started": "2022-01-15T09:30:03.45908Z"
    },
    "papermill": {
     "duration": 0.119112,
     "end_time": "2022-01-17T04:22:32.571323",
     "exception": false,
     "start_time": "2022-01-17T04:22:32.452211",
     "status": "completed"
    },
    "tags": []
   },
   "outputs": [
    {
     "data": {
      "text/plain": [
       "0.1203863045004612"
      ]
     },
     "execution_count": 15,
     "metadata": {},
     "output_type": "execute_result"
    }
   ],
   "source": [
    "p_control_converted = df2.query('group == \"control\" & converted == 1').shape[0]/df2.query('group == \"control\"').shape[0]\n",
    "p_control_converted"
   ]
  },
  {
   "cell_type": "markdown",
   "id": "9d585d8e",
   "metadata": {
    "papermill": {
     "duration": 0.059876,
     "end_time": "2022-01-17T04:22:32.690800",
     "exception": false,
     "start_time": "2022-01-17T04:22:32.630924",
     "status": "completed"
    },
    "tags": []
   },
   "source": [
    "**c.** Given that an individual was in the `treatment` group, what is the probability they converted?"
   ]
  },
  {
   "cell_type": "code",
   "execution_count": 16,
   "id": "fad23c09",
   "metadata": {
    "execution": {
     "iopub.execute_input": "2022-01-17T04:22:32.815138Z",
     "iopub.status.busy": "2022-01-17T04:22:32.814472Z",
     "iopub.status.idle": "2022-01-17T04:22:32.867954Z",
     "shell.execute_reply": "2022-01-17T04:22:32.868458Z",
     "shell.execute_reply.started": "2022-01-15T09:30:03.537326Z"
    },
    "papermill": {
     "duration": 0.118054,
     "end_time": "2022-01-17T04:22:32.868624",
     "exception": false,
     "start_time": "2022-01-17T04:22:32.750570",
     "status": "completed"
    },
    "tags": []
   },
   "outputs": [
    {
     "data": {
      "text/plain": [
       "0.11880806551510564"
      ]
     },
     "execution_count": 16,
     "metadata": {},
     "output_type": "execute_result"
    }
   ],
   "source": [
    "p_treatment_converted = df2.query('group == \"treatment\" & converted == 1').shape[0]/df2.query('group == \"treatment\"').shape[0]\n",
    "p_treatment_converted\n"
   ]
  },
  {
   "cell_type": "markdown",
   "id": "8ae91248",
   "metadata": {
    "papermill": {
     "duration": 0.059679,
     "end_time": "2022-01-17T04:22:32.988132",
     "exception": false,
     "start_time": "2022-01-17T04:22:32.928453",
     "status": "completed"
    },
    "tags": []
   },
   "source": [
    "Calculate the actual difference between the conversion rates for the two groups."
   ]
  },
  {
   "cell_type": "code",
   "execution_count": 17,
   "id": "ed017cde",
   "metadata": {
    "execution": {
     "iopub.execute_input": "2022-01-17T04:22:33.115487Z",
     "iopub.status.busy": "2022-01-17T04:22:33.114640Z",
     "iopub.status.idle": "2022-01-17T04:22:33.118344Z",
     "shell.execute_reply": "2022-01-17T04:22:33.117850Z",
     "shell.execute_reply.started": "2022-01-15T09:30:03.61717Z"
    },
    "papermill": {
     "duration": 0.068923,
     "end_time": "2022-01-17T04:22:33.118513",
     "exception": false,
     "start_time": "2022-01-17T04:22:33.049590",
     "status": "completed"
    },
    "tags": []
   },
   "outputs": [
    {
     "data": {
      "text/plain": [
       "-0.0015782389853555567"
      ]
     },
     "execution_count": 17,
     "metadata": {},
     "output_type": "execute_result"
    }
   ],
   "source": [
    "# Calculate the actual difference (obs_diff) between the conversion rates for the two groups.\n",
    "obs_diff = p_treatment_converted - p_control_converted\n",
    "obs_diff"
   ]
  },
  {
   "cell_type": "markdown",
   "id": "51d3866a",
   "metadata": {
    "papermill": {
     "duration": 0.060292,
     "end_time": "2022-01-17T04:22:33.239528",
     "exception": false,
     "start_time": "2022-01-17T04:22:33.179236",
     "status": "completed"
    },
    "tags": []
   },
   "source": [
    ">The actual difference between the conversion rates for the two groups is 0.0016 in favor of the control group, So the new treatment group users do not lead to more conversions."
   ]
  },
  {
   "cell_type": "markdown",
   "id": "abc71b78",
   "metadata": {
    "papermill": {
     "duration": 0.060887,
     "end_time": "2022-01-17T04:22:33.361230",
     "exception": false,
     "start_time": "2022-01-17T04:22:33.300343",
     "status": "completed"
    },
    "tags": []
   },
   "source": [
    "**d.** What is the probability that an individual received the new page?"
   ]
  },
  {
   "cell_type": "code",
   "execution_count": 18,
   "id": "6055152b",
   "metadata": {
    "execution": {
     "iopub.execute_input": "2022-01-17T04:22:33.487834Z",
     "iopub.status.busy": "2022-01-17T04:22:33.486812Z",
     "iopub.status.idle": "2022-01-17T04:22:33.524574Z",
     "shell.execute_reply": "2022-01-17T04:22:33.525021Z",
     "shell.execute_reply.started": "2022-01-15T09:30:03.625726Z"
    },
    "papermill": {
     "duration": 0.103521,
     "end_time": "2022-01-17T04:22:33.525186",
     "exception": false,
     "start_time": "2022-01-17T04:22:33.421665",
     "status": "completed"
    },
    "tags": []
   },
   "outputs": [
    {
     "data": {
      "text/plain": [
       "0.5000619442226688"
      ]
     },
     "execution_count": 18,
     "metadata": {},
     "output_type": "execute_result"
    }
   ],
   "source": [
    "p_population_newpage = df2.query('landing_page == \"new_page\"').shape[0]/df2.shape[0]\n",
    "p_population_newpage"
   ]
  },
  {
   "cell_type": "markdown",
   "id": "0bc847fb",
   "metadata": {
    "papermill": {
     "duration": 0.059884,
     "end_time": "2022-01-17T04:22:33.645490",
     "exception": false,
     "start_time": "2022-01-17T04:22:33.585606",
     "status": "completed"
    },
    "tags": []
   },
   "source": [
    "<a id='ab_test'></a>\n",
    "## Part II - A/B Test\n",
    "\n",
    "### ToDo 2.1\n",
    "For now, consider we need to make the decision just based on all the data provided.  \n",
    "\n",
    "If we want to assume that the old page is better unless the new page proves to be definitely better at a Type I error rate of 5%, what should be our null and alternative hypotheses (**$H_0$** and **$H_1$**)?  \n"
   ]
  },
  {
   "cell_type": "markdown",
   "id": "1b08bede",
   "metadata": {
    "papermill": {
     "duration": 0.060347,
     "end_time": "2022-01-17T04:22:33.766306",
     "exception": false,
     "start_time": "2022-01-17T04:22:33.705959",
     "status": "completed"
    },
    "tags": []
   },
   "source": [
    ">$$H_0:  p_{new} - p_{old} \\le 0 $$\n",
    "\n",
    "$$H_1:  p_{new} - p_{old}  > 0 $$"
   ]
  },
  {
   "cell_type": "markdown",
   "id": "33d737d5",
   "metadata": {
    "papermill": {
     "duration": 0.059976,
     "end_time": "2022-01-17T04:22:33.887332",
     "exception": false,
     "start_time": "2022-01-17T04:22:33.827356",
     "status": "completed"
    },
    "tags": []
   },
   "source": [
    "### ToDo 2.2 - Null Hypothesis $H_0$ Testing\n",
    "Under the null hypothesis $H_0$, assume that $p_{new}$ and $p_{old}$ are equal. Furthermore, assume that $p_{new}$ and $p_{old}$ both are equal to the **converted** success rate in the `df2` data regardless of the page. So, our assumption is: <br><br>\n",
    "<center>\n",
    "$p_{new}$ = $p_{old}$ = $p_{population}$\n",
    "</center>\n",
    "\n",
    "In this section, We will: \n",
    "\n",
    "- Simulate (bootstrap) sample data set for both groups, and compute the  \"converted\" probability $p$ for those samples. \n",
    "\n",
    "\n",
    "- Use a sample size for each group equal to the ones in the `df2` data.\n",
    "\n",
    "\n",
    "- Compute the difference in the \"converted\" probability for the two samples above. \n",
    "\n",
    "\n",
    "- Perform the sampling distribution for the \"difference in the converted probability\" between the two simulated-samples over 10,000 iterations; and calculate an estimate. \n",
    "\n"
   ]
  },
  {
   "cell_type": "markdown",
   "id": "0e45dd5e",
   "metadata": {
    "papermill": {
     "duration": 0.060477,
     "end_time": "2022-01-17T04:22:34.008287",
     "exception": false,
     "start_time": "2022-01-17T04:22:33.947810",
     "status": "completed"
    },
    "tags": []
   },
   "source": [
    "**a.** What is the **conversion rate** for $p_{new}$ under the null hypothesis? "
   ]
  },
  {
   "cell_type": "code",
   "execution_count": 19,
   "id": "52cbb81c",
   "metadata": {
    "execution": {
     "iopub.execute_input": "2022-01-17T04:22:34.136881Z",
     "iopub.status.busy": "2022-01-17T04:22:34.136024Z",
     "iopub.status.idle": "2022-01-17T04:22:34.139196Z",
     "shell.execute_reply": "2022-01-17T04:22:34.139736Z",
     "shell.execute_reply.started": "2022-01-15T09:30:03.68037Z"
    },
    "papermill": {
     "duration": 0.069991,
     "end_time": "2022-01-17T04:22:34.139910",
     "exception": false,
     "start_time": "2022-01-17T04:22:34.069919",
     "status": "completed"
    },
    "tags": []
   },
   "outputs": [
    {
     "data": {
      "text/plain": [
       "0.11959708724499628"
      ]
     },
     "execution_count": 19,
     "metadata": {},
     "output_type": "execute_result"
    }
   ],
   "source": [
    "p_new = p_population\n",
    "p_new"
   ]
  },
  {
   "cell_type": "markdown",
   "id": "39b3e141",
   "metadata": {
    "papermill": {
     "duration": 0.060848,
     "end_time": "2022-01-17T04:22:34.262292",
     "exception": false,
     "start_time": "2022-01-17T04:22:34.201444",
     "status": "completed"
    },
    "tags": []
   },
   "source": [
    "**b.** What is the **conversion rate** for $p_{old}$ under the null hypothesis? "
   ]
  },
  {
   "cell_type": "code",
   "execution_count": 20,
   "id": "dc8ea68f",
   "metadata": {
    "execution": {
     "iopub.execute_input": "2022-01-17T04:22:34.391738Z",
     "iopub.status.busy": "2022-01-17T04:22:34.390921Z",
     "iopub.status.idle": "2022-01-17T04:22:34.394000Z",
     "shell.execute_reply": "2022-01-17T04:22:34.394486Z",
     "shell.execute_reply.started": "2022-01-15T09:30:03.687772Z"
    },
    "papermill": {
     "duration": 0.070754,
     "end_time": "2022-01-17T04:22:34.394657",
     "exception": false,
     "start_time": "2022-01-17T04:22:34.323903",
     "status": "completed"
    },
    "tags": []
   },
   "outputs": [
    {
     "data": {
      "text/plain": [
       "0.11959708724499628"
      ]
     },
     "execution_count": 20,
     "metadata": {},
     "output_type": "execute_result"
    }
   ],
   "source": [
    "p_old = p_population\n",
    "p_old"
   ]
  },
  {
   "cell_type": "markdown",
   "id": "435df328",
   "metadata": {
    "papermill": {
     "duration": 0.060804,
     "end_time": "2022-01-17T04:22:34.516920",
     "exception": false,
     "start_time": "2022-01-17T04:22:34.456116",
     "status": "completed"
    },
    "tags": []
   },
   "source": [
    "**c.** What is $n_{new}$, the number of individuals in the treatment group? <br><br>"
   ]
  },
  {
   "cell_type": "code",
   "execution_count": 21,
   "id": "83bc1813",
   "metadata": {
    "execution": {
     "iopub.execute_input": "2022-01-17T04:22:34.645000Z",
     "iopub.status.busy": "2022-01-17T04:22:34.644010Z",
     "iopub.status.idle": "2022-01-17T04:22:34.676614Z",
     "shell.execute_reply": "2022-01-17T04:22:34.677089Z",
     "shell.execute_reply.started": "2022-01-15T09:30:03.702703Z"
    },
    "papermill": {
     "duration": 0.098949,
     "end_time": "2022-01-17T04:22:34.677265",
     "exception": false,
     "start_time": "2022-01-17T04:22:34.578316",
     "status": "completed"
    },
    "tags": []
   },
   "outputs": [
    {
     "data": {
      "text/plain": [
       "145310"
      ]
     },
     "execution_count": 21,
     "metadata": {},
     "output_type": "execute_result"
    }
   ],
   "source": [
    "n_new = df2.query('group == \"treatment\"').shape[0]\n",
    "n_new"
   ]
  },
  {
   "cell_type": "markdown",
   "id": "6d12e020",
   "metadata": {
    "papermill": {
     "duration": 0.061246,
     "end_time": "2022-01-17T04:22:34.800229",
     "exception": false,
     "start_time": "2022-01-17T04:22:34.738983",
     "status": "completed"
    },
    "tags": []
   },
   "source": [
    "**d.** What is $n_{old}$, the number of individuals in the control group?"
   ]
  },
  {
   "cell_type": "code",
   "execution_count": 22,
   "id": "0ab927a1",
   "metadata": {
    "execution": {
     "iopub.execute_input": "2022-01-17T04:22:34.945559Z",
     "iopub.status.busy": "2022-01-17T04:22:34.944873Z",
     "iopub.status.idle": "2022-01-17T04:22:34.959415Z",
     "shell.execute_reply": "2022-01-17T04:22:34.960002Z",
     "shell.execute_reply.started": "2022-01-15T09:30:03.753648Z"
    },
    "papermill": {
     "duration": 0.098431,
     "end_time": "2022-01-17T04:22:34.960193",
     "exception": false,
     "start_time": "2022-01-17T04:22:34.861762",
     "status": "completed"
    },
    "tags": []
   },
   "outputs": [
    {
     "data": {
      "text/plain": [
       "145274"
      ]
     },
     "execution_count": 22,
     "metadata": {},
     "output_type": "execute_result"
    }
   ],
   "source": [
    "n_old = df2.query('group == \"control\"').shape[0]\n",
    "n_old"
   ]
  },
  {
   "cell_type": "markdown",
   "id": "b68513a9",
   "metadata": {
    "papermill": {
     "duration": 0.062683,
     "end_time": "2022-01-17T04:22:35.085599",
     "exception": false,
     "start_time": "2022-01-17T04:22:35.022916",
     "status": "completed"
    },
    "tags": []
   },
   "source": [
    "**e. Simulate Sample for the `treatment` Group**<br> \n",
    "Simulate $n_{new}$ transactions with a conversion rate of $p_{new}$ under the null hypothesis.  <br><br>\n",
    "Store these $n_{new}$ 1's and 0's in the `new_page_converted` numpy array.\n"
   ]
  },
  {
   "cell_type": "code",
   "execution_count": 23,
   "id": "d5782f6a",
   "metadata": {
    "execution": {
     "iopub.execute_input": "2022-01-17T04:22:35.213482Z",
     "iopub.status.busy": "2022-01-17T04:22:35.212850Z",
     "iopub.status.idle": "2022-01-17T04:22:35.761561Z",
     "shell.execute_reply": "2022-01-17T04:22:35.761029Z",
     "shell.execute_reply.started": "2022-01-15T09:30:03.801439Z"
    },
    "papermill": {
     "duration": 0.613777,
     "end_time": "2022-01-17T04:22:35.761702",
     "exception": false,
     "start_time": "2022-01-17T04:22:35.147925",
     "status": "completed"
    },
    "tags": []
   },
   "outputs": [
    {
     "data": {
      "text/plain": [
       "0.12007432385933521"
      ]
     },
     "execution_count": 23,
     "metadata": {},
     "output_type": "execute_result"
    }
   ],
   "source": [
    "# Simulate a Sample for the treatment Group\n",
    "\n",
    "new_page_converted = np.random.choice([0,1],p=[1-p_new,p_new], size = n_new)\n",
    "converted_probability_new = sum(new_page_converted == 1) / n_new\n",
    "converted_probability_new"
   ]
  },
  {
   "cell_type": "markdown",
   "id": "8242ba2f",
   "metadata": {
    "papermill": {
     "duration": 0.062571,
     "end_time": "2022-01-17T04:22:35.886511",
     "exception": false,
     "start_time": "2022-01-17T04:22:35.823940",
     "status": "completed"
    },
    "tags": []
   },
   "source": [
    "**f. Simulate Sample for the `control` Group** <br>\n",
    "Simulate $n_{old}$ transactions with a conversion rate of $p_{old}$ under the null hypothesis. <br> Store these $n_{old}$ 1's and 0's in the `old_page_converted` numpy array."
   ]
  },
  {
   "cell_type": "code",
   "execution_count": 24,
   "id": "0975a6d1",
   "metadata": {
    "execution": {
     "iopub.execute_input": "2022-01-17T04:22:36.020381Z",
     "iopub.status.busy": "2022-01-17T04:22:36.019749Z",
     "iopub.status.idle": "2022-01-17T04:22:36.559348Z",
     "shell.execute_reply": "2022-01-17T04:22:36.558817Z",
     "shell.execute_reply.started": "2022-01-15T09:30:04.382717Z"
    },
    "papermill": {
     "duration": 0.609435,
     "end_time": "2022-01-17T04:22:36.559498",
     "exception": false,
     "start_time": "2022-01-17T04:22:35.950063",
     "status": "completed"
    },
    "tags": []
   },
   "outputs": [
    {
     "data": {
      "text/plain": [
       "0.11714415518262043"
      ]
     },
     "execution_count": 24,
     "metadata": {},
     "output_type": "execute_result"
    }
   ],
   "source": [
    "# Simulate a Sample for the control Group\n",
    "\n",
    "old_page_converted = np.random.choice([0,1],p=[1-p_old,p_old], size = n_old)\n",
    "converted_probability_old = sum(old_page_converted == 1) / n_old\n",
    "converted_probability_old"
   ]
  },
  {
   "cell_type": "markdown",
   "id": "4ea95d1c",
   "metadata": {
    "papermill": {
     "duration": 0.063272,
     "end_time": "2022-01-17T04:22:36.685180",
     "exception": false,
     "start_time": "2022-01-17T04:22:36.621908",
     "status": "completed"
    },
    "tags": []
   },
   "source": [
    "**g.** Find the difference in the \"converted\" probability $(p{'}_{new}$ - $p{'}_{old})$ for our simulated samples from the parts (e) and (f) above. "
   ]
  },
  {
   "cell_type": "code",
   "execution_count": 25,
   "id": "b34eee03",
   "metadata": {
    "execution": {
     "iopub.execute_input": "2022-01-17T04:22:36.816500Z",
     "iopub.status.busy": "2022-01-17T04:22:36.815797Z",
     "iopub.status.idle": "2022-01-17T04:22:36.819622Z",
     "shell.execute_reply": "2022-01-17T04:22:36.820084Z",
     "shell.execute_reply.started": "2022-01-15T09:30:04.951184Z"
    },
    "papermill": {
     "duration": 0.071985,
     "end_time": "2022-01-17T04:22:36.820279",
     "exception": false,
     "start_time": "2022-01-17T04:22:36.748294",
     "status": "completed"
    },
    "tags": []
   },
   "outputs": [
    {
     "data": {
      "text/plain": [
       "0.0029301686767147783"
      ]
     },
     "execution_count": 25,
     "metadata": {},
     "output_type": "execute_result"
    }
   ],
   "source": [
    "converted_probability_diff = converted_probability_new - converted_probability_old\n",
    "converted_probability_diff"
   ]
  },
  {
   "cell_type": "markdown",
   "id": "596cfc71",
   "metadata": {
    "papermill": {
     "duration": 0.076348,
     "end_time": "2022-01-17T04:22:36.962615",
     "exception": false,
     "start_time": "2022-01-17T04:22:36.886267",
     "status": "completed"
    },
    "tags": []
   },
   "source": [
    "\n",
    "**h. Sampling distribution** <br>\n",
    "Re-create `new_page_converted` and `old_page_converted` and find the $(p{'}_{new}$ - $p{'}_{old})$ value 10,000 times using the same simulation process we used in parts (a) through (g) above. \n",
    "\n",
    "<br>\n",
    "Store all  $(p{'}_{new}$ - $p{'}_{old})$  values in a NumPy array called `p_diffs`."
   ]
  },
  {
   "cell_type": "code",
   "execution_count": 26,
   "id": "f31b4330",
   "metadata": {
    "execution": {
     "iopub.execute_input": "2022-01-17T04:22:37.110581Z",
     "iopub.status.busy": "2022-01-17T04:22:37.109601Z",
     "iopub.status.idle": "2022-01-17T04:22:37.112763Z",
     "shell.execute_reply": "2022-01-17T04:22:37.111998Z",
     "shell.execute_reply.started": "2022-01-15T09:30:04.958097Z"
    },
    "papermill": {
     "duration": 0.084021,
     "end_time": "2022-01-17T04:22:37.112962",
     "exception": false,
     "start_time": "2022-01-17T04:22:37.028941",
     "status": "completed"
    },
    "tags": []
   },
   "outputs": [],
   "source": [
    "# Sampling distribution \n",
    "p_diffs = []\n",
    "new_converted_simulation = np.random.binomial(n_new, p_new, 10000)/n_new \n",
    "old_converted_simulation = np.random.binomial(n_old, p_old, 10000)/n_old \n",
    "p_diffs = new_converted_simulation - old_converted_simulation"
   ]
  },
  {
   "cell_type": "markdown",
   "id": "0af63f2e",
   "metadata": {
    "papermill": {
     "duration": 0.065413,
     "end_time": "2022-01-17T04:22:37.253150",
     "exception": false,
     "start_time": "2022-01-17T04:22:37.187737",
     "status": "completed"
    },
    "tags": []
   },
   "source": [
    "**i. Histogram**<br> \n",
    "Plot a histogram of the **p_diffs**."
   ]
  },
  {
   "cell_type": "code",
   "execution_count": 27,
   "id": "a55f4707",
   "metadata": {
    "execution": {
     "iopub.execute_input": "2022-01-17T04:22:37.386313Z",
     "iopub.status.busy": "2022-01-17T04:22:37.385170Z",
     "iopub.status.idle": "2022-01-17T04:22:37.793653Z",
     "shell.execute_reply": "2022-01-17T04:22:37.793036Z",
     "shell.execute_reply.started": "2022-01-15T09:30:04.974355Z"
    },
    "papermill": {
     "duration": 0.476354,
     "end_time": "2022-01-17T04:22:37.793805",
     "exception": false,
     "start_time": "2022-01-17T04:22:37.317451",
     "status": "completed"
    },
    "tags": []
   },
   "outputs": [
    {
     "data": {
      "image/png": "[encoded data removed]",
      "text/plain": [
       "<Figure size 432x288 with 1 Axes>"
      ]
     },
     "metadata": {
      "needs_background": "light"
     },
     "output_type": "display_data"
    }
   ],
   "source": [
    "null_val = np.random.normal(0, np.array(p_diffs).std(), np.array(p_diffs).size)\n",
    "plt.hist(null_val)\n",
    "plt.axvline(x=obs_diff,color='red')\n",
    "plt.xlabel('The difference in the converted probability')\n",
    "plt.ylabel('Number of samples')\n",
    "plt.title('Histogram of the Sampling distribution of the difference in the converted probability');"
   ]
  },
  {
   "cell_type": "markdown",
   "id": "77c2a0f0",
   "metadata": {
    "papermill": {
     "duration": 0.065341,
     "end_time": "2022-01-17T04:22:37.924086",
     "exception": false,
     "start_time": "2022-01-17T04:22:37.858745",
     "status": "completed"
    },
    "tags": []
   },
   "source": [
    "**j.** What proportion of the **p_diffs** are greater than the actual difference observed in the `df2` data? In other words, what is the p-value?"
   ]
  },
  {
   "cell_type": "code",
   "execution_count": 28,
   "id": "cc9b84c3",
   "metadata": {
    "execution": {
     "iopub.execute_input": "2022-01-17T04:22:38.061621Z",
     "iopub.status.busy": "2022-01-17T04:22:38.060716Z",
     "iopub.status.idle": "2022-01-17T04:22:38.064081Z",
     "shell.execute_reply": "2022-01-17T04:22:38.064617Z",
     "shell.execute_reply.started": "2022-01-15T09:30:05.412431Z"
    },
    "papermill": {
     "duration": 0.075509,
     "end_time": "2022-01-17T04:22:38.064796",
     "exception": false,
     "start_time": "2022-01-17T04:22:37.989287",
     "status": "completed"
    },
    "tags": []
   },
   "outputs": [
    {
     "data": {
      "text/plain": [
       "0.9064"
      ]
     },
     "execution_count": 28,
     "metadata": {},
     "output_type": "execute_result"
    }
   ],
   "source": [
    "p_val = (null_val > obs_diff).mean()\n",
    "p_val"
   ]
  },
  {
   "cell_type": "markdown",
   "id": "cc3a044e",
   "metadata": {
    "papermill": {
     "duration": 0.065496,
     "end_time": "2022-01-17T04:22:38.196029",
     "exception": false,
     "start_time": "2022-01-17T04:22:38.130533",
     "status": "completed"
    },
    "tags": []
   },
   "source": [
    "> Since the p-value is much more than the type I error rate, We can not reject the null hypothesis. Therefore, There is no significant difference between the old and the new pages."
   ]
  },
  {
   "cell_type": "markdown",
   "id": "807d135e",
   "metadata": {
    "papermill": {
     "duration": 0.064288,
     "end_time": "2022-01-17T04:22:38.326655",
     "exception": false,
     "start_time": "2022-01-17T04:22:38.262367",
     "status": "completed"
    },
    "tags": []
   },
   "source": [
    "\n",
    "\n",
    "**l. Using Built-in Methods for Hypothesis Testing**<br>\n",
    "We could also use a built-in to achieve similar results."
   ]
  },
  {
   "cell_type": "code",
   "execution_count": 29,
   "id": "9692202e",
   "metadata": {
    "execution": {
     "iopub.execute_input": "2022-01-17T04:22:38.464395Z",
     "iopub.status.busy": "2022-01-17T04:22:38.463539Z",
     "iopub.status.idle": "2022-01-17T04:22:40.328327Z",
     "shell.execute_reply": "2022-01-17T04:22:40.327606Z",
     "shell.execute_reply.started": "2022-01-15T09:30:05.420847Z"
    },
    "papermill": {
     "duration": 1.936426,
     "end_time": "2022-01-17T04:22:40.328495",
     "exception": false,
     "start_time": "2022-01-17T04:22:38.392069",
     "status": "completed"
    },
    "tags": []
   },
   "outputs": [
    {
     "data": {
      "text/plain": [
       "(array([17264, 17489]), array([145310, 145274]))"
      ]
     },
     "execution_count": 29,
     "metadata": {},
     "output_type": "execute_result"
    }
   ],
   "source": [
    "import statsmodels.api as sm\n",
    "\n",
    "# number of conversions with the old_page\n",
    "convert_old = sum(df2.query('landing_page == \"old_page\"')['converted'])\n",
    "\n",
    "# number of conversions with the new_page\n",
    "convert_new = sum(df2.query('landing_page == \"new_page\"')['converted'])\n",
    "\n",
    "# number of individuals who were shown the old_page\n",
    "n_old = df2.query('landing_page == \"old_page\"').shape[0]\n",
    "\n",
    "# number of individuals who received new_page\n",
    "n_new = df2.query('landing_page == \"new_page\"').shape[0]\n",
    "\n",
    "count = np.array([convert_new, convert_old])\n",
    "nobs = np.array([n_new, n_old])\n",
    "\n",
    "count, nobs"
   ]
  },
  {
   "cell_type": "markdown",
   "id": "48056593",
   "metadata": {
    "papermill": {
     "duration": 0.064497,
     "end_time": "2022-01-17T04:22:40.459251",
     "exception": false,
     "start_time": "2022-01-17T04:22:40.394754",
     "status": "completed"
    },
    "tags": []
   },
   "source": [
    "- `convert_old`: number of conversions with the old_page\n",
    "- `convert_new`: number of conversions with the new_page\n",
    "- `n_old`: number of individuals who were shown the old_page\n",
    "- `n_new`: number of individuals who were shown the new_page"
   ]
  },
  {
   "cell_type": "markdown",
   "id": "5263097c",
   "metadata": {
    "execution": {
     "iopub.execute_input": "2022-01-15T09:26:00.409709Z",
     "iopub.status.busy": "2022-01-15T09:26:00.408452Z",
     "iopub.status.idle": "2022-01-15T09:26:00.427759Z",
     "shell.execute_reply": "2022-01-15T09:26:00.426586Z",
     "shell.execute_reply.started": "2022-01-15T09:26:00.409638Z"
    },
    "papermill": {
     "duration": 0.06562,
     "end_time": "2022-01-17T04:22:40.589969",
     "exception": false,
     "start_time": "2022-01-17T04:22:40.524349",
     "status": "completed"
    },
    "tags": []
   },
   "source": [
    "**m.** Now use `sm.stats.proportions_ztest()` to compute our test statistic and p-value.\n",
    "\n",
    "where, \n",
    "- `count_array` = represents the number of \"converted\" for each group\n",
    "- `nobs_array` = represents the total number of observations (rows) in each group\n",
    "- `alternative` = choose one of the values from `[‘two-sided’, ‘smaller’, ‘larger’]` depending upon two-tailed, left-tailed, or right-tailed respectively. \n",
    "\n",
    "The built-in function above will return the z_score, p_value. \n",
    "\n",
    "---\n",
    "### About the two-sample z-test\n",
    "Recall that we have plotted a distribution `p_diffs` representing the\n",
    "difference in the \"converted\" probability  $(p{'}_{new}-p{'}_{old})$  for our two simulated samples 10,000 times. \n",
    "\n",
    "Another way for comparing the mean of two independent and normal distribution is a **two-sample z-test**. we can perform the Z-test to calculate the Z_score, as shown in the equation below:\n",
    "\n",
    "$$\n",
    "Z_{score} = \\frac{ (p{'}_{new}-p{'}_{old}) - (p_{new}  -  p_{old})}{ \\sqrt{ \\frac{\\sigma^{2}_{new} }{n_{new}} + \\frac{\\sigma^{2}_{old} }{n_{old}}  } }\n",
    "$$\n",
    "\n",
    "where,\n",
    "- $p{'}$ is the \"converted\" success rate in the sample\n",
    "- $p_{new}$ and $p_{old}$ are the \"converted\" success rate for the two groups in the population. \n",
    "- $\\sigma_{new}$ and $\\sigma_{new}$ are the standard deviation for the two groups in the population. \n",
    "- $n_{new}$ and $n_{old}$ represent the size of the two groups or samples (it's same in our case)\n",
    "\n",
    "\n",
    ">Z-test is performed when the sample size is large, and the population variance is known. The z-score represents the distance between the two \"converted\" success rates in terms of the standard error. \n",
    "\n",
    "Next step is to make a decision to reject or fail to reject the null hypothesis based on comparing these two values: \n",
    "- $Z_{score}$\n",
    "- $Z_{\\alpha}$ or $Z_{0.05}$, also known as critical value at 95% confidence interval.\n",
    "- $Z_{0.05}$ is 1.645 for one-tailed tests,  and 1.960 for two-tailed test. \n",
    "\n",
    " "
   ]
  },
  {
   "cell_type": "code",
   "execution_count": 30,
   "id": "8c7f1c45",
   "metadata": {
    "execution": {
     "iopub.execute_input": "2022-01-17T04:22:40.727220Z",
     "iopub.status.busy": "2022-01-17T04:22:40.726430Z",
     "iopub.status.idle": "2022-01-17T04:22:40.729433Z",
     "shell.execute_reply": "2022-01-17T04:22:40.730158Z",
     "shell.execute_reply.started": "2022-01-15T09:30:06.180993Z"
    },
    "papermill": {
     "duration": 0.075253,
     "end_time": "2022-01-17T04:22:40.730387",
     "exception": false,
     "start_time": "2022-01-17T04:22:40.655134",
     "status": "completed"
    },
    "tags": []
   },
   "outputs": [
    {
     "name": "stdout",
     "output_type": "stream",
     "text": [
      "-1.3109241984234394 0.9050583127590245\n"
     ]
    }
   ],
   "source": [
    "import statsmodels.api as sm\n",
    "# ToDo: Complete the sm.stats.proportions_ztest() method arguments\n",
    "z_score, p_value = sm.stats.proportions_ztest(count, nobs, alternative='larger')\n",
    "print(z_score, p_value)"
   ]
  },
  {
   "cell_type": "markdown",
   "id": "3cbac8e8",
   "metadata": {
    "papermill": {
     "duration": 0.066648,
     "end_time": "2022-01-17T04:22:40.863462",
     "exception": false,
     "start_time": "2022-01-17T04:22:40.796814",
     "status": "completed"
    },
    "tags": []
   },
   "source": [
    "> The $Z_{score}$ is less than $Z_{0.05}$, So we fail to reject the null hypothesis."
   ]
  },
  {
   "cell_type": "markdown",
   "id": "6e93dce7",
   "metadata": {
    "papermill": {
     "duration": 0.064831,
     "end_time": "2022-01-17T04:22:40.994471",
     "exception": false,
     "start_time": "2022-01-17T04:22:40.929640",
     "status": "completed"
    },
    "tags": []
   },
   "source": [
    "<a id='regression'></a>\n",
    "### Part III - A regression approach\n",
    "\n",
    "### ToDo 3.1 \n",
    "In this final part, we will see that the result we achieved in the A/B test in Part II above can also be achieved by performing regression.<br><br> \n",
    "\n",
    "**a.** The goal is to use **statsmodels** library to fit the Logistic regression model to see if there is a significant difference in conversion based on the page-type a customer receives. However, we first need to create the following two columns in the `df2` dataframe:\n",
    " 1. `intercept` - It should be `1` in the entire column. \n",
    " 2. `ab_page` - It's a dummy variable column, having a value `1` when an individual receives the **treatment**, otherwise `0`.  "
   ]
  },
  {
   "cell_type": "code",
   "execution_count": 31,
   "id": "239028ea",
   "metadata": {
    "execution": {
     "iopub.execute_input": "2022-01-17T04:22:41.130260Z",
     "iopub.status.busy": "2022-01-17T04:22:41.129533Z",
     "iopub.status.idle": "2022-01-17T04:22:41.193605Z",
     "shell.execute_reply": "2022-01-17T04:22:41.192856Z",
     "shell.execute_reply.started": "2022-01-15T09:30:06.189986Z"
    },
    "papermill": {
     "duration": 0.13419,
     "end_time": "2022-01-17T04:22:41.193756",
     "exception": false,
     "start_time": "2022-01-17T04:22:41.059566",
     "status": "completed"
    },
    "tags": []
   },
   "outputs": [],
   "source": [
    "df2['intercept'] = 1\n",
    "df2[['control_page','ab_page']] = pd.get_dummies(df2['group'])\n",
    "df2.drop(['control_page'], axis=1, inplace = True)"
   ]
  },
  {
   "cell_type": "markdown",
   "id": "ebb0606f",
   "metadata": {
    "papermill": {
     "duration": 0.06469,
     "end_time": "2022-01-17T04:22:41.323672",
     "exception": false,
     "start_time": "2022-01-17T04:22:41.258982",
     "status": "completed"
    },
    "tags": []
   },
   "source": [
    "**b.** Use **statsmodels** to instantiate our regression model on the two columns we created in part (a) above, then fit the model to predict whether or not an individual converts. \n"
   ]
  },
  {
   "cell_type": "code",
   "execution_count": 32,
   "id": "b6e580f3",
   "metadata": {
    "execution": {
     "iopub.execute_input": "2022-01-17T04:22:41.463383Z",
     "iopub.status.busy": "2022-01-17T04:22:41.461882Z",
     "iopub.status.idle": "2022-01-17T04:22:41.879407Z",
     "shell.execute_reply": "2022-01-17T04:22:41.877551Z",
     "shell.execute_reply.started": "2022-01-15T09:30:06.272667Z"
    },
    "papermill": {
     "duration": 0.490741,
     "end_time": "2022-01-17T04:22:41.879698",
     "exception": false,
     "start_time": "2022-01-17T04:22:41.388957",
     "status": "completed"
    },
    "tags": []
   },
   "outputs": [
    {
     "name": "stdout",
     "output_type": "stream",
     "text": [
      "Optimization terminated successfully.\n",
      "         Current function value: 0.366118\n",
      "         Iterations 6\n"
     ]
    }
   ],
   "source": [
    "import statsmodels.api as sm;\n",
    "\n",
    "lrm = sm.Logit(df2['converted'],df2[['intercept','ab_page']])\n",
    "res= lrm.fit()"
   ]
  },
  {
   "cell_type": "markdown",
   "id": "8f553a5e",
   "metadata": {
    "papermill": {
     "duration": 0.065995,
     "end_time": "2022-01-17T04:22:42.057768",
     "exception": false,
     "start_time": "2022-01-17T04:22:41.991773",
     "status": "completed"
    },
    "tags": []
   },
   "source": [
    "**c.** Provide the summary of our model below, and use it as necessary to answer the following questions."
   ]
  },
  {
   "cell_type": "code",
   "execution_count": 33,
   "id": "f3d0acef",
   "metadata": {
    "execution": {
     "iopub.execute_input": "2022-01-17T04:22:42.196950Z",
     "iopub.status.busy": "2022-01-17T04:22:42.195520Z",
     "iopub.status.idle": "2022-01-17T04:22:43.485943Z",
     "shell.execute_reply": "2022-01-17T04:22:43.487085Z",
     "shell.execute_reply.started": "2022-01-15T09:30:06.7013Z"
    },
    "papermill": {
     "duration": 1.363248,
     "end_time": "2022-01-17T04:22:43.487395",
     "exception": false,
     "start_time": "2022-01-17T04:22:42.124147",
     "status": "completed"
    },
    "tags": []
   },
   "outputs": [
    {
     "data": {
      "text/html": [
       "<table class=\"simpletable\">\n",
       "<tr>\n",
       "        <td>Model:</td>              <td>Logit</td>      <td>Pseudo R-squared:</td>    <td>0.000</td>   \n",
       "</tr>\n",
       "<tr>\n",
       "  <td>Dependent Variable:</td>     <td>converted</td>          <td>AIC:</td>        <td>212780.3502</td>\n",
       "</tr>\n",
       "<tr>\n",
       "         <td>Date:</td>        <td>2022-01-17 04:22</td>       <td>BIC:</td>        <td>212801.5095</td>\n",
       "</tr>\n",
       "<tr>\n",
       "   <td>No. Observations:</td>       <td>290584</td>       <td>Log-Likelihood:</td>  <td>-1.0639e+05</td>\n",
       "</tr>\n",
       "<tr>\n",
       "       <td>Df Model:</td>              <td>1</td>            <td>LL-Null:</td>      <td>-1.0639e+05</td>\n",
       "</tr>\n",
       "<tr>\n",
       "     <td>Df Residuals:</td>         <td>290582</td>        <td>LLR p-value:</td>      <td>0.18988</td>  \n",
       "</tr>\n",
       "<tr>\n",
       "      <td>Converged:</td>           <td>1.0000</td>           <td>Scale:</td>         <td>1.0000</td>   \n",
       "</tr>\n",
       "<tr>\n",
       "    <td>No. Iterations:</td>        <td>6.0000</td>              <td></td>               <td></td>      \n",
       "</tr>\n",
       "</table>\n",
       "<table class=\"simpletable\">\n",
       "<tr>\n",
       "      <td></td>       <th>Coef.</th>  <th>Std.Err.</th>     <th>z</th>      <th>P>|z|</th> <th>[0.025</th>  <th>0.975]</th> \n",
       "</tr>\n",
       "<tr>\n",
       "  <th>intercept</th> <td>-1.9888</td>  <td>0.0081</td>  <td>-246.6690</td> <td>0.0000</td> <td>-2.0046</td> <td>-1.9730</td>\n",
       "</tr>\n",
       "<tr>\n",
       "  <th>ab_page</th>   <td>-0.0150</td>  <td>0.0114</td>   <td>-1.3109</td>  <td>0.1899</td> <td>-0.0374</td> <td>0.0074</td> \n",
       "</tr>\n",
       "</table>"
      ],
      "text/plain": [
       "<class 'statsmodels.iolib.summary2.Summary'>\n",
       "\"\"\"\n",
       "                          Results: Logit\n",
       "==================================================================\n",
       "Model:              Logit            Pseudo R-squared: 0.000      \n",
       "Dependent Variable: converted        AIC:              212780.3502\n",
       "Date:               2022-01-17 04:22 BIC:              212801.5095\n",
       "No. Observations:   290584           Log-Likelihood:   -1.0639e+05\n",
       "Df Model:           1                LL-Null:          -1.0639e+05\n",
       "Df Residuals:       290582           LLR p-value:      0.18988    \n",
       "Converged:          1.0000           Scale:            1.0000     \n",
       "No. Iterations:     6.0000                                        \n",
       "-------------------------------------------------------------------\n",
       "              Coef.   Std.Err.      z      P>|z|    [0.025   0.975]\n",
       "-------------------------------------------------------------------\n",
       "intercept    -1.9888    0.0081  -246.6690  0.0000  -2.0046  -1.9730\n",
       "ab_page      -0.0150    0.0114    -1.3109  0.1899  -0.0374   0.0074\n",
       "==================================================================\n",
       "\n",
       "\"\"\""
      ]
     },
     "execution_count": 33,
     "metadata": {},
     "output_type": "execute_result"
    }
   ],
   "source": [
    "res.summary2()"
   ]
  },
  {
   "cell_type": "markdown",
   "id": "b66bed68",
   "metadata": {
    "papermill": {
     "duration": 0.06583,
     "end_time": "2022-01-17T04:22:43.648774",
     "exception": false,
     "start_time": "2022-01-17T04:22:43.582944",
     "status": "completed"
    },
    "tags": []
   },
   "source": [
    "**d.** What is the p-value associated with **ab_page**? Why does it differ from the value we found in **Part II**?<br><br>  "
   ]
  },
  {
   "cell_type": "markdown",
   "id": "c5c00b92",
   "metadata": {
    "papermill": {
     "duration": 0.06574,
     "end_time": "2022-01-17T04:22:43.780635",
     "exception": false,
     "start_time": "2022-01-17T04:22:43.714895",
     "status": "completed"
    },
    "tags": []
   },
   "source": [
    ">* p-value = 0.1899, failing to reject the null hypothesis.\n",
    "* The p-value differs from the value found in Part II Because the p-value here tests if the parameter equals zero in the null hypothesis.\n",
    "* Null and alternative hypothesis from Logistic regression (two-tailed test):\n",
    "$$H_0:  p_{new} - p_{old} = 0 $$\n",
    "$$H_1:  p_{new} - p_{old} \\neq 0 $$\n",
    "* While null and alternative hypothesis from part II (one-tailed test):\n",
    "$$H_0:  p_{new} - p_{old} \\le 0 $$\n",
    "$$H_1:  p_{new} - p_{old}  > 0 $$\n",
    "Where,\n",
    "- $H_0$ is the null hypothesis.\n",
    "- $H_1$ is the alternative hypothesis.\n",
    "- $p_{new}$ and $p_{old}$ are the \"converted\" success rates for the two groups in the population. \n"
   ]
  },
  {
   "cell_type": "markdown",
   "id": "63a2499c",
   "metadata": {
    "papermill": {
     "duration": 0.06666,
     "end_time": "2022-01-17T04:22:43.913302",
     "exception": false,
     "start_time": "2022-01-17T04:22:43.846642",
     "status": "completed"
    },
    "tags": []
   },
   "source": [
    "**e. Adding countries**<br> \n",
    "Now along with testing if the conversion rate changes for different pages, also add an effect based on which country a user lives in. \n",
    "\n",
    "1. We will need to read in the **countries.csv** dataset and merge together our `df2` datasets on the appropriate rows. We call the resulting dataframe `df_merged`.\n",
    "\n",
    "2. Does it appear that country had an impact on conversion?  To answer this question, consider the three unique values, `['UK', 'US', 'CA']`, in the `country` column. Create dummy variables for these country columns.  "
   ]
  },
  {
   "cell_type": "code",
   "execution_count": 34,
   "id": "c5b613e3",
   "metadata": {
    "execution": {
     "iopub.execute_input": "2022-01-17T04:22:44.050190Z",
     "iopub.status.busy": "2022-01-17T04:22:44.049471Z",
     "iopub.status.idle": "2022-01-17T04:22:44.177836Z",
     "shell.execute_reply": "2022-01-17T04:22:44.177153Z",
     "shell.execute_reply.started": "2022-01-15T09:30:08.116296Z"
    },
    "papermill": {
     "duration": 0.19871,
     "end_time": "2022-01-17T04:22:44.178011",
     "exception": false,
     "start_time": "2022-01-17T04:22:43.979301",
     "status": "completed"
    },
    "tags": []
   },
   "outputs": [
    {
     "data": {
      "text/html": [
       "<div>\n",
       "<style scoped>\n",
       "    .dataframe tbody tr th:only-of-type {\n",
       "        vertical-align: middle;\n",
       "    }\n",
       "\n",
       "    .dataframe tbody tr th {\n",
       "        vertical-align: top;\n",
       "    }\n",
       "\n",
       "    .dataframe thead th {\n",
       "        text-align: right;\n",
       "    }\n",
       "</style>\n",
       "<table border=\"1\" class=\"dataframe\">\n",
       "  <thead>\n",
       "    <tr style=\"text-align: right;\">\n",
       "      <th></th>\n",
       "      <th>user_id</th>\n",
       "      <th>country</th>\n",
       "    </tr>\n",
       "  </thead>\n",
       "  <tbody>\n",
       "    <tr>\n",
       "      <th>0</th>\n",
       "      <td>834778</td>\n",
       "      <td>UK</td>\n",
       "    </tr>\n",
       "    <tr>\n",
       "      <th>1</th>\n",
       "      <td>928468</td>\n",
       "      <td>US</td>\n",
       "    </tr>\n",
       "    <tr>\n",
       "      <th>2</th>\n",
       "      <td>822059</td>\n",
       "      <td>UK</td>\n",
       "    </tr>\n",
       "    <tr>\n",
       "      <th>3</th>\n",
       "      <td>711597</td>\n",
       "      <td>UK</td>\n",
       "    </tr>\n",
       "    <tr>\n",
       "      <th>4</th>\n",
       "      <td>710616</td>\n",
       "      <td>UK</td>\n",
       "    </tr>\n",
       "  </tbody>\n",
       "</table>\n",
       "</div>"
      ],
      "text/plain": [
       "   user_id country\n",
       "0   834778      UK\n",
       "1   928468      US\n",
       "2   822059      UK\n",
       "3   711597      UK\n",
       "4   710616      UK"
      ]
     },
     "execution_count": 34,
     "metadata": {},
     "output_type": "execute_result"
    }
   ],
   "source": [
    "# Read the countries.csv\n",
    "countries = pd.read_csv('/kaggle/input/countries/countries.csv')\n",
    "countries.head()"
   ]
  },
  {
   "cell_type": "code",
   "execution_count": 35,
   "id": "6896057b",
   "metadata": {
    "execution": {
     "iopub.execute_input": "2022-01-17T04:22:44.319949Z",
     "iopub.status.busy": "2022-01-17T04:22:44.319230Z",
     "iopub.status.idle": "2022-01-17T04:22:44.368154Z",
     "shell.execute_reply": "2022-01-17T04:22:44.367533Z",
     "shell.execute_reply.started": "2022-01-15T09:30:08.233228Z"
    },
    "papermill": {
     "duration": 0.123546,
     "end_time": "2022-01-17T04:22:44.368300",
     "exception": false,
     "start_time": "2022-01-17T04:22:44.244754",
     "status": "completed"
    },
    "tags": []
   },
   "outputs": [
    {
     "data": {
      "text/html": [
       "<div>\n",
       "<style scoped>\n",
       "    .dataframe tbody tr th:only-of-type {\n",
       "        vertical-align: middle;\n",
       "    }\n",
       "\n",
       "    .dataframe tbody tr th {\n",
       "        vertical-align: top;\n",
       "    }\n",
       "\n",
       "    .dataframe thead th {\n",
       "        text-align: right;\n",
       "    }\n",
       "</style>\n",
       "<table border=\"1\" class=\"dataframe\">\n",
       "  <thead>\n",
       "    <tr style=\"text-align: right;\">\n",
       "      <th></th>\n",
       "      <th>user_id</th>\n",
       "      <th>timestamp</th>\n",
       "      <th>group</th>\n",
       "      <th>landing_page</th>\n",
       "      <th>converted</th>\n",
       "      <th>intercept</th>\n",
       "      <th>ab_page</th>\n",
       "      <th>country</th>\n",
       "    </tr>\n",
       "  </thead>\n",
       "  <tbody>\n",
       "    <tr>\n",
       "      <th>0</th>\n",
       "      <td>851104</td>\n",
       "      <td>2017-01-21 22:11:48.556739</td>\n",
       "      <td>control</td>\n",
       "      <td>old_page</td>\n",
       "      <td>0</td>\n",
       "      <td>1</td>\n",
       "      <td>0</td>\n",
       "      <td>UK</td>\n",
       "    </tr>\n",
       "    <tr>\n",
       "      <th>1</th>\n",
       "      <td>804228</td>\n",
       "      <td>2017-01-12 08:01:45.159739</td>\n",
       "      <td>control</td>\n",
       "      <td>old_page</td>\n",
       "      <td>0</td>\n",
       "      <td>1</td>\n",
       "      <td>0</td>\n",
       "      <td>US</td>\n",
       "    </tr>\n",
       "    <tr>\n",
       "      <th>2</th>\n",
       "      <td>661590</td>\n",
       "      <td>2017-01-11 16:55:06.154213</td>\n",
       "      <td>treatment</td>\n",
       "      <td>new_page</td>\n",
       "      <td>0</td>\n",
       "      <td>1</td>\n",
       "      <td>1</td>\n",
       "      <td>UK</td>\n",
       "    </tr>\n",
       "    <tr>\n",
       "      <th>3</th>\n",
       "      <td>853541</td>\n",
       "      <td>2017-01-08 18:28:03.143765</td>\n",
       "      <td>treatment</td>\n",
       "      <td>new_page</td>\n",
       "      <td>0</td>\n",
       "      <td>1</td>\n",
       "      <td>1</td>\n",
       "      <td>UK</td>\n",
       "    </tr>\n",
       "    <tr>\n",
       "      <th>4</th>\n",
       "      <td>864975</td>\n",
       "      <td>2017-01-21 01:52:26.210827</td>\n",
       "      <td>control</td>\n",
       "      <td>old_page</td>\n",
       "      <td>1</td>\n",
       "      <td>1</td>\n",
       "      <td>0</td>\n",
       "      <td>UK</td>\n",
       "    </tr>\n",
       "  </tbody>\n",
       "</table>\n",
       "</div>"
      ],
      "text/plain": [
       "   user_id                   timestamp      group landing_page  converted  \\\n",
       "0   851104  2017-01-21 22:11:48.556739    control     old_page          0   \n",
       "1   804228  2017-01-12 08:01:45.159739    control     old_page          0   \n",
       "2   661590  2017-01-11 16:55:06.154213  treatment     new_page          0   \n",
       "3   853541  2017-01-08 18:28:03.143765  treatment     new_page          0   \n",
       "4   864975  2017-01-21 01:52:26.210827    control     old_page          1   \n",
       "\n",
       "   intercept  ab_page country  \n",
       "0          1        0      UK  \n",
       "1          1        0      US  \n",
       "2          1        1      UK  \n",
       "3          1        1      UK  \n",
       "4          1        0      UK  "
      ]
     },
     "execution_count": 35,
     "metadata": {},
     "output_type": "execute_result"
    }
   ],
   "source": [
    "# Join with the df2 dataframe\n",
    "\n",
    "df_merged = df2.join(countries['country'])\n",
    "df_merged.head()"
   ]
  },
  {
   "cell_type": "code",
   "execution_count": 36,
   "id": "440b1ed6",
   "metadata": {
    "execution": {
     "iopub.execute_input": "2022-01-17T04:22:44.507798Z",
     "iopub.status.busy": "2022-01-17T04:22:44.507055Z",
     "iopub.status.idle": "2022-01-17T04:22:44.561331Z",
     "shell.execute_reply": "2022-01-17T04:22:44.561909Z",
     "shell.execute_reply.started": "2022-01-15T09:30:08.294082Z"
    },
    "papermill": {
     "duration": 0.124459,
     "end_time": "2022-01-17T04:22:44.562099",
     "exception": false,
     "start_time": "2022-01-17T04:22:44.437640",
     "status": "completed"
    },
    "tags": []
   },
   "outputs": [
    {
     "data": {
      "text/html": [
       "<div>\n",
       "<style scoped>\n",
       "    .dataframe tbody tr th:only-of-type {\n",
       "        vertical-align: middle;\n",
       "    }\n",
       "\n",
       "    .dataframe tbody tr th {\n",
       "        vertical-align: top;\n",
       "    }\n",
       "\n",
       "    .dataframe thead th {\n",
       "        text-align: right;\n",
       "    }\n",
       "</style>\n",
       "<table border=\"1\" class=\"dataframe\">\n",
       "  <thead>\n",
       "    <tr style=\"text-align: right;\">\n",
       "      <th></th>\n",
       "      <th>user_id</th>\n",
       "      <th>timestamp</th>\n",
       "      <th>group</th>\n",
       "      <th>landing_page</th>\n",
       "      <th>converted</th>\n",
       "      <th>intercept</th>\n",
       "      <th>ab_page</th>\n",
       "      <th>country</th>\n",
       "      <th>CA</th>\n",
       "      <th>UK</th>\n",
       "      <th>US</th>\n",
       "    </tr>\n",
       "  </thead>\n",
       "  <tbody>\n",
       "    <tr>\n",
       "      <th>0</th>\n",
       "      <td>851104</td>\n",
       "      <td>2017-01-21 22:11:48.556739</td>\n",
       "      <td>control</td>\n",
       "      <td>old_page</td>\n",
       "      <td>0</td>\n",
       "      <td>1</td>\n",
       "      <td>0</td>\n",
       "      <td>UK</td>\n",
       "      <td>0</td>\n",
       "      <td>1</td>\n",
       "      <td>0</td>\n",
       "    </tr>\n",
       "    <tr>\n",
       "      <th>1</th>\n",
       "      <td>804228</td>\n",
       "      <td>2017-01-12 08:01:45.159739</td>\n",
       "      <td>control</td>\n",
       "      <td>old_page</td>\n",
       "      <td>0</td>\n",
       "      <td>1</td>\n",
       "      <td>0</td>\n",
       "      <td>US</td>\n",
       "      <td>0</td>\n",
       "      <td>0</td>\n",
       "      <td>1</td>\n",
       "    </tr>\n",
       "    <tr>\n",
       "      <th>2</th>\n",
       "      <td>661590</td>\n",
       "      <td>2017-01-11 16:55:06.154213</td>\n",
       "      <td>treatment</td>\n",
       "      <td>new_page</td>\n",
       "      <td>0</td>\n",
       "      <td>1</td>\n",
       "      <td>1</td>\n",
       "      <td>UK</td>\n",
       "      <td>0</td>\n",
       "      <td>1</td>\n",
       "      <td>0</td>\n",
       "    </tr>\n",
       "    <tr>\n",
       "      <th>3</th>\n",
       "      <td>853541</td>\n",
       "      <td>2017-01-08 18:28:03.143765</td>\n",
       "      <td>treatment</td>\n",
       "      <td>new_page</td>\n",
       "      <td>0</td>\n",
       "      <td>1</td>\n",
       "      <td>1</td>\n",
       "      <td>UK</td>\n",
       "      <td>0</td>\n",
       "      <td>1</td>\n",
       "      <td>0</td>\n",
       "    </tr>\n",
       "    <tr>\n",
       "      <th>4</th>\n",
       "      <td>864975</td>\n",
       "      <td>2017-01-21 01:52:26.210827</td>\n",
       "      <td>control</td>\n",
       "      <td>old_page</td>\n",
       "      <td>1</td>\n",
       "      <td>1</td>\n",
       "      <td>0</td>\n",
       "      <td>UK</td>\n",
       "      <td>0</td>\n",
       "      <td>1</td>\n",
       "      <td>0</td>\n",
       "    </tr>\n",
       "  </tbody>\n",
       "</table>\n",
       "</div>"
      ],
      "text/plain": [
       "   user_id                   timestamp      group landing_page  converted  \\\n",
       "0   851104  2017-01-21 22:11:48.556739    control     old_page          0   \n",
       "1   804228  2017-01-12 08:01:45.159739    control     old_page          0   \n",
       "2   661590  2017-01-11 16:55:06.154213  treatment     new_page          0   \n",
       "3   853541  2017-01-08 18:28:03.143765  treatment     new_page          0   \n",
       "4   864975  2017-01-21 01:52:26.210827    control     old_page          1   \n",
       "\n",
       "   intercept  ab_page country  CA  UK  US  \n",
       "0          1        0      UK   0   1   0  \n",
       "1          1        0      US   0   0   1  \n",
       "2          1        1      UK   0   1   0  \n",
       "3          1        1      UK   0   1   0  \n",
       "4          1        0      UK   0   1   0  "
      ]
     },
     "execution_count": 36,
     "metadata": {},
     "output_type": "execute_result"
    }
   ],
   "source": [
    "# Create the necessary dummy variables\n",
    "df_merged[['CA', 'UK' , 'US']] = pd.get_dummies(df_merged['country'])\n",
    "df_merged.head()"
   ]
  },
  {
   "cell_type": "code",
   "execution_count": 37,
   "id": "b315f389",
   "metadata": {
    "execution": {
     "iopub.execute_input": "2022-01-17T04:22:44.702969Z",
     "iopub.status.busy": "2022-01-17T04:22:44.702256Z",
     "iopub.status.idle": "2022-01-17T04:22:46.487265Z",
     "shell.execute_reply": "2022-01-17T04:22:46.488270Z",
     "shell.execute_reply.started": "2022-01-15T09:30:08.357315Z"
    },
    "papermill": {
     "duration": 1.857676,
     "end_time": "2022-01-17T04:22:46.488589",
     "exception": false,
     "start_time": "2022-01-17T04:22:44.630913",
     "status": "completed"
    },
    "tags": []
   },
   "outputs": [
    {
     "name": "stdout",
     "output_type": "stream",
     "text": [
      "Optimization terminated successfully.\n",
      "         Current function value: 0.366116\n",
      "         Iterations 6\n"
     ]
    },
    {
     "data": {
      "text/html": [
       "<table class=\"simpletable\">\n",
       "<tr>\n",
       "        <td>Model:</td>              <td>Logit</td>      <td>Pseudo R-squared:</td>    <td>0.000</td>   \n",
       "</tr>\n",
       "<tr>\n",
       "  <td>Dependent Variable:</td>     <td>converted</td>          <td>AIC:</td>        <td>212783.0474</td>\n",
       "</tr>\n",
       "<tr>\n",
       "         <td>Date:</td>        <td>2022-01-17 04:22</td>       <td>BIC:</td>        <td>212825.3660</td>\n",
       "</tr>\n",
       "<tr>\n",
       "   <td>No. Observations:</td>       <td>290584</td>       <td>Log-Likelihood:</td>  <td>-1.0639e+05</td>\n",
       "</tr>\n",
       "<tr>\n",
       "       <td>Df Model:</td>              <td>3</td>            <td>LL-Null:</td>      <td>-1.0639e+05</td>\n",
       "</tr>\n",
       "<tr>\n",
       "     <td>Df Residuals:</td>         <td>290580</td>        <td>LLR p-value:</td>      <td>0.38835</td>  \n",
       "</tr>\n",
       "<tr>\n",
       "      <td>Converged:</td>           <td>1.0000</td>           <td>Scale:</td>         <td>1.0000</td>   \n",
       "</tr>\n",
       "<tr>\n",
       "    <td>No. Iterations:</td>        <td>6.0000</td>              <td></td>               <td></td>      \n",
       "</tr>\n",
       "</table>\n",
       "<table class=\"simpletable\">\n",
       "<tr>\n",
       "      <td></td>       <th>Coef.</th>  <th>Std.Err.</th>     <th>z</th>      <th>P>|z|</th> <th>[0.025</th>  <th>0.975]</th> \n",
       "</tr>\n",
       "<tr>\n",
       "  <th>intercept</th> <td>-1.9891</td>  <td>0.0089</td>  <td>-224.0205</td> <td>0.0000</td> <td>-2.0065</td> <td>-1.9717</td>\n",
       "</tr>\n",
       "<tr>\n",
       "  <th>ab_page</th>   <td>-0.0150</td>  <td>0.0114</td>   <td>-1.3084</td>  <td>0.1907</td> <td>-0.0374</td> <td>0.0074</td> \n",
       "</tr>\n",
       "<tr>\n",
       "  <th>UK</th>        <td>0.0065</td>   <td>0.0134</td>   <td>0.4850</td>   <td>0.6277</td> <td>-0.0197</td> <td>0.0327</td> \n",
       "</tr>\n",
       "<tr>\n",
       "  <th>CA</th>        <td>-0.0258</td>  <td>0.0269</td>   <td>-0.9589</td>  <td>0.3376</td> <td>-0.0785</td> <td>0.0269</td> \n",
       "</tr>\n",
       "</table>"
      ],
      "text/plain": [
       "<class 'statsmodels.iolib.summary2.Summary'>\n",
       "\"\"\"\n",
       "                          Results: Logit\n",
       "==================================================================\n",
       "Model:              Logit            Pseudo R-squared: 0.000      \n",
       "Dependent Variable: converted        AIC:              212783.0474\n",
       "Date:               2022-01-17 04:22 BIC:              212825.3660\n",
       "No. Observations:   290584           Log-Likelihood:   -1.0639e+05\n",
       "Df Model:           3                LL-Null:          -1.0639e+05\n",
       "Df Residuals:       290580           LLR p-value:      0.38835    \n",
       "Converged:          1.0000           Scale:            1.0000     \n",
       "No. Iterations:     6.0000                                        \n",
       "-------------------------------------------------------------------\n",
       "              Coef.   Std.Err.      z      P>|z|    [0.025   0.975]\n",
       "-------------------------------------------------------------------\n",
       "intercept    -1.9891    0.0089  -224.0205  0.0000  -2.0065  -1.9717\n",
       "ab_page      -0.0150    0.0114    -1.3084  0.1907  -0.0374   0.0074\n",
       "UK            0.0065    0.0134     0.4850  0.6277  -0.0197   0.0327\n",
       "CA           -0.0258    0.0269    -0.9589  0.3376  -0.0785   0.0269\n",
       "==================================================================\n",
       "\n",
       "\"\"\""
      ]
     },
     "execution_count": 37,
     "metadata": {},
     "output_type": "execute_result"
    }
   ],
   "source": [
    "# Fitting model, and summarize the results\n",
    "\n",
    "lrm_2 = sm.Logit(df_merged['converted'],df_merged[['intercept','ab_page','UK', 'CA']])\n",
    "res_2= lrm_2.fit()\n",
    "res_2.summary2()"
   ]
  },
  {
   "cell_type": "markdown",
   "id": "66804e53",
   "metadata": {
    "papermill": {
     "duration": 0.068684,
     "end_time": "2022-01-17T04:22:46.654237",
     "exception": false,
     "start_time": "2022-01-17T04:22:46.585553",
     "status": "completed"
    },
    "tags": []
   },
   "source": [
    ">* The p-value of 'ab_page' with the country 'US' is more than the Type I error rate (0.05), So they have no statistically significant effects on conversion.\n",
    "* Also the confidence intervals of each of the countries ('UK' and 'CA') and 'ab_page' are overlapping. Therefore, There are no statistically significant effects on conversion.\n",
    "* We failed to reject the null hypothesis as a result of the above conclusion."
   ]
  },
  {
   "cell_type": "markdown",
   "id": "7a54ca4e",
   "metadata": {
    "papermill": {
     "duration": 0.068489,
     "end_time": "2022-01-17T04:22:46.792353",
     "exception": false,
     "start_time": "2022-01-17T04:22:46.723864",
     "status": "completed"
    },
    "tags": []
   },
   "source": [
    "**h. Fit our model and obtain the results**<br> \n",
    "Though we have now looked at the individual factors of country and page on conversion, we would now like to look at an interaction between page and country to see if are there significant effects on conversion."
   ]
  },
  {
   "cell_type": "code",
   "execution_count": 38,
   "id": "faced1a3",
   "metadata": {
    "execution": {
     "iopub.execute_input": "2022-01-17T04:22:46.936899Z",
     "iopub.status.busy": "2022-01-17T04:22:46.936160Z",
     "iopub.status.idle": "2022-01-17T04:22:46.939753Z",
     "shell.execute_reply": "2022-01-17T04:22:46.940247Z",
     "shell.execute_reply.started": "2022-01-15T09:30:10.503621Z"
    },
    "papermill": {
     "duration": 0.079101,
     "end_time": "2022-01-17T04:22:46.940451",
     "exception": false,
     "start_time": "2022-01-17T04:22:46.861350",
     "status": "completed"
    },
    "tags": []
   },
   "outputs": [],
   "source": [
    "df_merged['ab_UK'] = df_merged['ab_page'] * df_merged['UK']\n",
    "df_merged['ab_CA'] = df_merged['ab_page'] * df_merged['CA']"
   ]
  },
  {
   "cell_type": "code",
   "execution_count": 39,
   "id": "6ea52358",
   "metadata": {
    "execution": {
     "iopub.execute_input": "2022-01-17T04:22:47.084442Z",
     "iopub.status.busy": "2022-01-17T04:22:47.083672Z",
     "iopub.status.idle": "2022-01-17T04:22:48.932375Z",
     "shell.execute_reply": "2022-01-17T04:22:48.933300Z",
     "shell.execute_reply.started": "2022-01-15T09:30:10.532542Z"
    },
    "papermill": {
     "duration": 1.924998,
     "end_time": "2022-01-17T04:22:48.933616",
     "exception": false,
     "start_time": "2022-01-17T04:22:47.008618",
     "status": "completed"
    },
    "scrolled": true,
    "tags": []
   },
   "outputs": [
    {
     "name": "stdout",
     "output_type": "stream",
     "text": [
      "Optimization terminated successfully.\n",
      "         Current function value: 0.366112\n",
      "         Iterations 6\n"
     ]
    },
    {
     "data": {
      "text/html": [
       "<table class=\"simpletable\">\n",
       "<tr>\n",
       "        <td>Model:</td>              <td>Logit</td>      <td>Pseudo R-squared:</td>    <td>0.000</td>   \n",
       "</tr>\n",
       "<tr>\n",
       "  <td>Dependent Variable:</td>     <td>converted</td>          <td>AIC:</td>        <td>212784.6547</td>\n",
       "</tr>\n",
       "<tr>\n",
       "         <td>Date:</td>        <td>2022-01-17 04:22</td>       <td>BIC:</td>        <td>212848.1326</td>\n",
       "</tr>\n",
       "<tr>\n",
       "   <td>No. Observations:</td>       <td>290584</td>       <td>Log-Likelihood:</td>  <td>-1.0639e+05</td>\n",
       "</tr>\n",
       "<tr>\n",
       "       <td>Df Model:</td>              <td>5</td>            <td>LL-Null:</td>      <td>-1.0639e+05</td>\n",
       "</tr>\n",
       "<tr>\n",
       "     <td>Df Residuals:</td>         <td>290578</td>        <td>LLR p-value:</td>      <td>0.36746</td>  \n",
       "</tr>\n",
       "<tr>\n",
       "      <td>Converged:</td>           <td>1.0000</td>           <td>Scale:</td>         <td>1.0000</td>   \n",
       "</tr>\n",
       "<tr>\n",
       "    <td>No. Iterations:</td>        <td>6.0000</td>              <td></td>               <td></td>      \n",
       "</tr>\n",
       "</table>\n",
       "<table class=\"simpletable\">\n",
       "<tr>\n",
       "      <td></td>       <th>Coef.</th>  <th>Std.Err.</th>     <th>z</th>      <th>P>|z|</th> <th>[0.025</th>  <th>0.975]</th> \n",
       "</tr>\n",
       "<tr>\n",
       "  <th>intercept</th> <td>-1.9859</td>  <td>0.0096</td>  <td>-206.7920</td> <td>0.0000</td> <td>-2.0047</td> <td>-1.9670</td>\n",
       "</tr>\n",
       "<tr>\n",
       "  <th>ab_page</th>   <td>-0.0215</td>  <td>0.0136</td>   <td>-1.5817</td>  <td>0.1137</td> <td>-0.0482</td> <td>0.0052</td> \n",
       "</tr>\n",
       "<tr>\n",
       "  <th>UK</th>        <td>0.0013</td>   <td>0.0188</td>   <td>0.0669</td>   <td>0.9467</td> <td>-0.0356</td> <td>0.0381</td> \n",
       "</tr>\n",
       "<tr>\n",
       "  <th>CA</th>        <td>-0.0675</td>  <td>0.0385</td>   <td>-1.7528</td>  <td>0.0796</td> <td>-0.1430</td> <td>0.0080</td> \n",
       "</tr>\n",
       "<tr>\n",
       "  <th>ab_UK</th>     <td>0.0105</td>   <td>0.0267</td>   <td>0.3937</td>   <td>0.6938</td> <td>-0.0419</td> <td>0.0629</td> \n",
       "</tr>\n",
       "<tr>\n",
       "  <th>ab_CA</th>     <td>0.0825</td>   <td>0.0538</td>   <td>1.5339</td>   <td>0.1251</td> <td>-0.0229</td> <td>0.1880</td> \n",
       "</tr>\n",
       "</table>"
      ],
      "text/plain": [
       "<class 'statsmodels.iolib.summary2.Summary'>\n",
       "\"\"\"\n",
       "                          Results: Logit\n",
       "==================================================================\n",
       "Model:              Logit            Pseudo R-squared: 0.000      \n",
       "Dependent Variable: converted        AIC:              212784.6547\n",
       "Date:               2022-01-17 04:22 BIC:              212848.1326\n",
       "No. Observations:   290584           Log-Likelihood:   -1.0639e+05\n",
       "Df Model:           5                LL-Null:          -1.0639e+05\n",
       "Df Residuals:       290578           LLR p-value:      0.36746    \n",
       "Converged:          1.0000           Scale:            1.0000     \n",
       "No. Iterations:     6.0000                                        \n",
       "-------------------------------------------------------------------\n",
       "              Coef.   Std.Err.      z      P>|z|    [0.025   0.975]\n",
       "-------------------------------------------------------------------\n",
       "intercept    -1.9859    0.0096  -206.7920  0.0000  -2.0047  -1.9670\n",
       "ab_page      -0.0215    0.0136    -1.5817  0.1137  -0.0482   0.0052\n",
       "UK            0.0013    0.0188     0.0669  0.9467  -0.0356   0.0381\n",
       "CA           -0.0675    0.0385    -1.7528  0.0796  -0.1430   0.0080\n",
       "ab_UK         0.0105    0.0267     0.3937  0.6938  -0.0419   0.0629\n",
       "ab_CA         0.0825    0.0538     1.5339  0.1251  -0.0229   0.1880\n",
       "==================================================================\n",
       "\n",
       "\"\"\""
      ]
     },
     "execution_count": 39,
     "metadata": {},
     "output_type": "execute_result"
    }
   ],
   "source": [
    "# Fitting model, and summarize the results\n",
    "\n",
    "lrm_2 = sm.Logit(df_merged['converted'],df_merged[['intercept','ab_page','UK','CA','ab_UK', 'ab_CA']])\n",
    "res_2= lrm_2.fit()\n",
    "res_2.summary2()"
   ]
  },
  {
   "cell_type": "markdown",
   "id": "0d899e5a",
   "metadata": {
    "papermill": {
     "duration": 0.069873,
     "end_time": "2022-01-17T04:22:49.100613",
     "exception": false,
     "start_time": "2022-01-17T04:22:49.030740",
     "status": "completed"
    },
    "tags": []
   },
   "source": [
    ">* The p-value of interaction between the page and the countries are more than the Type I error rate (0.05), p-values are 0.6938 and 0.1251, So they have no statistically significant effects on conversion.\n",
    "* We failed to reject the null hypothesis as a result of the above conclusion."
   ]
  },
  {
   "cell_type": "markdown",
   "id": "6469e040",
   "metadata": {
    "papermill": {
     "duration": 0.069627,
     "end_time": "2022-01-17T04:22:49.239817",
     "exception": false,
     "start_time": "2022-01-17T04:22:49.170190",
     "status": "completed"
    },
    "tags": []
   },
   "source": [
    "<a id='Final_Conclusion'></a>\n",
    " ### Final conclusion\n",
    "\n",
    "* From the analysis we made, we fail to reject the null hypothesis for all the cases mentioned above, Which was that there is no significant difference between the old page and the new one. \n",
    "\n",
    "* Finally we reach a conclusion:\n",
    "We should keep the old page for the foreseeable future until we could gather new data that may give us more evidence that the new page is better."
   ]
  }
 ],
 "metadata": {
  "kernelspec": {
   "display_name": "Python 3",
   "language": "python",
   "name": "python3"
  },
  "language_info": {
   "codemirror_mode": {
    "name": "ipython",
    "version": 3
   },
   "file_extension": ".py",
   "mimetype": "text/x-python",
   "name": "python",
   "nbconvert_exporter": "python",
   "pygments_lexer": "ipython3",
   "version": "3.7.12"
  },
  "papermill": {
   "default_parameters": {},
   "duration": 32.409306,
   "end_time": "2022-01-17T04:22:50.019538",
   "environment_variables": {},
   "exception": null,
   "input_path": "__notebook__.ipynb",
   "output_path": "__notebook__.ipynb",
   "parameters": {},
   "start_time": "2022-01-17T04:22:17.610232",
   "version": "2.3.3"
  }
 },
 "nbformat": 4,
 "nbformat_minor": 5
}
